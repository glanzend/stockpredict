{
 "cells": [
  {
   "cell_type": "markdown",
   "metadata": {},
   "source": [
    "## 日経平均予測\n",
    "### 翌営業日の日経平均終値に対する単純騰落予測（上がるか／下がるか）、\n",
    "### および４パターン増減予測（①1%以上 ②0%以上、1%未満　 ③-1%以上、0%未満　 ④-1%超）を行う。"
   ]
  },
  {
   "cell_type": "code",
   "execution_count": 1,
   "metadata": {
    "scrolled": true
   },
   "outputs": [
    {
     "name": "stderr",
     "output_type": "stream",
     "text": [
      "C:\\Users\\yt690\\Anaconda3\\lib\\site-packages\\h5py\\__init__.py:34: FutureWarning: Conversion of the second argument of issubdtype from `float` to `np.floating` is deprecated. In future, it will be treated as `np.float64 == np.dtype(float).type`.\n",
      "  from ._conv import register_converters as _register_converters\n",
      "Using TensorFlow backend.\n"
     ]
    }
   ],
   "source": [
    "import tensorflow as tf\n",
    "import numpy as np\n",
    "import pandas as pd\n",
    "import matplotlib.pyplot as plt\n",
    "%matplotlib inline\n",
    "import seaborn as sns\n",
    "import csv\n",
    "import time\n",
    "import keras\n",
    "\n",
    "from keras.models import Sequential\n",
    "from keras.layers import Dense, Dropout, Activation\n",
    "from keras.optimizers import SGD,RMSprop, Adagrad, Adadelta, Adam\n",
    "from __future__ import print_function\n",
    "from sklearn.model_selection import train_test_split, GridSearchCV\n",
    "from IPython.display import display\n",
    "from sklearn.metrics import accuracy_score,f1_score,recall_score,precision_score,classification_report\n",
    "from sklearn.metrics import confusion_matrix"
   ]
  },
  {
   "cell_type": "markdown",
   "metadata": {},
   "source": [
    "### CSVファイル読み込み"
   ]
  },
  {
   "cell_type": "code",
   "execution_count": 2,
   "metadata": {
    "scrolled": true
   },
   "outputs": [
    {
     "data": {
      "image/png": "[encoded data removed]",
      "text/plain": [
       "<matplotlib.figure.Figure at 0x16bd74bc0b8>"
      ]
     },
     "metadata": {},
     "output_type": "display_data"
    },
    {
     "data": {
      "text/html": [
       "<div>\n",
       "<style>\n",
       "    .dataframe thead tr:only-child th {\n",
       "        text-align: right;\n",
       "    }\n",
       "\n",
       "    .dataframe thead th {\n",
       "        text-align: left;\n",
       "    }\n",
       "\n",
       "    .dataframe tbody tr th {\n",
       "        vertical-align: top;\n",
       "    }\n",
       "</style>\n",
       "<table border=\"1\" class=\"dataframe\">\n",
       "  <thead>\n",
       "    <tr style=\"text-align: right;\">\n",
       "      <th></th>\n",
       "      <th>NK_Close</th>\n",
       "    </tr>\n",
       "  </thead>\n",
       "  <tbody>\n",
       "    <tr>\n",
       "      <th>count</th>\n",
       "      <td>4212.000000</td>\n",
       "    </tr>\n",
       "    <tr>\n",
       "      <th>mean</th>\n",
       "      <td>13258.716387</td>\n",
       "    </tr>\n",
       "    <tr>\n",
       "      <th>std</th>\n",
       "      <td>3830.598834</td>\n",
       "    </tr>\n",
       "    <tr>\n",
       "      <th>min</th>\n",
       "      <td>7054.980000</td>\n",
       "    </tr>\n",
       "    <tr>\n",
       "      <th>25%</th>\n",
       "      <td>9999.692500</td>\n",
       "    </tr>\n",
       "    <tr>\n",
       "      <th>50%</th>\n",
       "      <td>12241.785000</td>\n",
       "    </tr>\n",
       "    <tr>\n",
       "      <th>75%</th>\n",
       "      <td>16313.537500</td>\n",
       "    </tr>\n",
       "    <tr>\n",
       "      <th>max</th>\n",
       "      <td>24124.150000</td>\n",
       "    </tr>\n",
       "  </tbody>\n",
       "</table>\n",
       "</div>"
      ],
      "text/plain": [
       "           NK_Close\n",
       "count   4212.000000\n",
       "mean   13258.716387\n",
       "std     3830.598834\n",
       "min     7054.980000\n",
       "25%     9999.692500\n",
       "50%    12241.785000\n",
       "75%    16313.537500\n",
       "max    24124.150000"
      ]
     },
     "execution_count": 2,
     "metadata": {},
     "output_type": "execute_result"
    }
   ],
   "source": [
    "# 学習データの読み込み\n",
    "df = pd.read_csv('mktdat_nk1.csv',encoding='utf-8',index_col='Date', parse_dates=[0])\n",
    "\n",
    "#データ確認\n",
    "df.head() \n",
    "df.plot()\n",
    "plt.legend(bbox_to_anchor=(1, 0), loc='lower right', borderaxespad=3, fontsize=7)\n",
    "plt.show()\n",
    "df.describe()"
   ]
  },
  {
   "cell_type": "markdown",
   "metadata": {},
   "source": [
    "### データ加工"
   ]
  },
  {
   "cell_type": "code",
   "execution_count": 3,
   "metadata": {
    "scrolled": false
   },
   "outputs": [
    {
     "data": {
      "text/html": [
       "<div>\n",
       "<style>\n",
       "    .dataframe thead tr:only-child th {\n",
       "        text-align: right;\n",
       "    }\n",
       "\n",
       "    .dataframe thead th {\n",
       "        text-align: left;\n",
       "    }\n",
       "\n",
       "    .dataframe tbody tr th {\n",
       "        vertical-align: top;\n",
       "    }\n",
       "</style>\n",
       "<table border=\"1\" class=\"dataframe\">\n",
       "  <thead>\n",
       "    <tr style=\"text-align: right;\">\n",
       "      <th></th>\n",
       "      <th>NK_Close</th>\n",
       "    </tr>\n",
       "  </thead>\n",
       "  <tbody>\n",
       "    <tr>\n",
       "      <th>count</th>\n",
       "      <td>4211.000000</td>\n",
       "    </tr>\n",
       "    <tr>\n",
       "      <th>mean</th>\n",
       "      <td>0.010138</td>\n",
       "    </tr>\n",
       "    <tr>\n",
       "      <th>std</th>\n",
       "      <td>1.523779</td>\n",
       "    </tr>\n",
       "    <tr>\n",
       "      <th>min</th>\n",
       "      <td>-12.111026</td>\n",
       "    </tr>\n",
       "    <tr>\n",
       "      <th>25%</th>\n",
       "      <td>-0.728694</td>\n",
       "    </tr>\n",
       "    <tr>\n",
       "      <th>50%</th>\n",
       "      <td>0.042793</td>\n",
       "    </tr>\n",
       "    <tr>\n",
       "      <th>75%</th>\n",
       "      <td>0.826839</td>\n",
       "    </tr>\n",
       "    <tr>\n",
       "      <th>max</th>\n",
       "      <td>13.234585</td>\n",
       "    </tr>\n",
       "  </tbody>\n",
       "</table>\n",
       "</div>"
      ],
      "text/plain": [
       "          NK_Close\n",
       "count  4211.000000\n",
       "mean      0.010138\n",
       "std       1.523779\n",
       "min     -12.111026\n",
       "25%      -0.728694\n",
       "50%       0.042793\n",
       "75%       0.826839\n",
       "max      13.234585"
      ]
     },
     "execution_count": 3,
     "metadata": {},
     "output_type": "execute_result"
    }
   ],
   "source": [
    "#増減率（100＊log（前日比））を計算し、新たな列を追加\n",
    "\n",
    "for i in range(len(df.columns)):\n",
    "    use_col = df.columns[i]\n",
    "    df[use_col] =  100*np.log(df[use_col]/df[use_col].shift())\n",
    "\n",
    "#前日比をとったので、先頭行にNaNが含まれるため、先頭行を削除\n",
    "df=df.dropna(how='any')\n",
    "\n",
    "df.describe()"
   ]
  },
  {
   "cell_type": "code",
   "execution_count": 4,
   "metadata": {
    "scrolled": true
   },
   "outputs": [
    {
     "data": {
      "text/html": [
       "<div>\n",
       "<style>\n",
       "    .dataframe thead tr:only-child th {\n",
       "        text-align: right;\n",
       "    }\n",
       "\n",
       "    .dataframe thead th {\n",
       "        text-align: left;\n",
       "    }\n",
       "\n",
       "    .dataframe tbody tr th {\n",
       "        vertical-align: top;\n",
       "    }\n",
       "</style>\n",
       "<table border=\"1\" class=\"dataframe\">\n",
       "  <thead>\n",
       "    <tr style=\"text-align: right;\">\n",
       "      <th></th>\n",
       "      <th>NK_Close</th>\n",
       "    </tr>\n",
       "  </thead>\n",
       "  <tbody>\n",
       "    <tr>\n",
       "      <th>count</th>\n",
       "      <td>4.211000e+03</td>\n",
       "    </tr>\n",
       "    <tr>\n",
       "      <th>mean</th>\n",
       "      <td>-2.697122e-17</td>\n",
       "    </tr>\n",
       "    <tr>\n",
       "      <th>std</th>\n",
       "      <td>1.000119e+00</td>\n",
       "    </tr>\n",
       "    <tr>\n",
       "      <th>min</th>\n",
       "      <td>-7.955617e+00</td>\n",
       "    </tr>\n",
       "    <tr>\n",
       "      <th>25%</th>\n",
       "      <td>-4.849263e-01</td>\n",
       "    </tr>\n",
       "    <tr>\n",
       "      <th>50%</th>\n",
       "      <td>2.143279e-02</td>\n",
       "    </tr>\n",
       "    <tr>\n",
       "      <th>75%</th>\n",
       "      <td>5.360340e-01</td>\n",
       "    </tr>\n",
       "    <tr>\n",
       "      <th>max</th>\n",
       "      <td>8.679746e+00</td>\n",
       "    </tr>\n",
       "  </tbody>\n",
       "</table>\n",
       "</div>"
      ],
      "text/plain": [
       "           NK_Close\n",
       "count  4.211000e+03\n",
       "mean  -2.697122e-17\n",
       "std    1.000119e+00\n",
       "min   -7.955617e+00\n",
       "25%   -4.849263e-01\n",
       "50%    2.143279e-02\n",
       "75%    5.360340e-01\n",
       "max    8.679746e+00"
      ]
     },
     "execution_count": 4,
     "metadata": {},
     "output_type": "execute_result"
    }
   ],
   "source": [
    "#標準化\n",
    "df = (df - df.mean()) / df.std(ddof=0)\n",
    "\n",
    "df.describe()"
   ]
  },
  {
   "cell_type": "code",
   "execution_count": 5,
   "metadata": {
    "scrolled": true
   },
   "outputs": [
    {
     "data": {
      "text/html": [
       "<div>\n",
       "<style>\n",
       "    .dataframe thead tr:only-child th {\n",
       "        text-align: right;\n",
       "    }\n",
       "\n",
       "    .dataframe thead th {\n",
       "        text-align: left;\n",
       "    }\n",
       "\n",
       "    .dataframe tbody tr th {\n",
       "        vertical-align: top;\n",
       "    }\n",
       "</style>\n",
       "<table border=\"1\" class=\"dataframe\">\n",
       "  <thead>\n",
       "    <tr style=\"text-align: right;\">\n",
       "      <th></th>\n",
       "      <th>NK_Close</th>\n",
       "      <th>NK_Close_P1</th>\n",
       "      <th>NK_Close_P2</th>\n",
       "      <th>NK_Close_P3</th>\n",
       "      <th>NK_Close_P4</th>\n",
       "    </tr>\n",
       "    <tr>\n",
       "      <th>Date</th>\n",
       "      <th></th>\n",
       "      <th></th>\n",
       "      <th></th>\n",
       "      <th></th>\n",
       "      <th></th>\n",
       "    </tr>\n",
       "  </thead>\n",
       "  <tbody>\n",
       "    <tr>\n",
       "      <th>2001-01-09</th>\n",
       "      <td>-1.234906</td>\n",
       "      <td>0</td>\n",
       "      <td>0</td>\n",
       "      <td>0</td>\n",
       "      <td>1</td>\n",
       "    </tr>\n",
       "    <tr>\n",
       "      <th>2001-01-10</th>\n",
       "      <td>-0.870004</td>\n",
       "      <td>0</td>\n",
       "      <td>0</td>\n",
       "      <td>1</td>\n",
       "      <td>0</td>\n",
       "    </tr>\n",
       "    <tr>\n",
       "      <th>2001-01-11</th>\n",
       "      <td>-1.148059</td>\n",
       "      <td>0</td>\n",
       "      <td>0</td>\n",
       "      <td>0</td>\n",
       "      <td>1</td>\n",
       "    </tr>\n",
       "    <tr>\n",
       "      <th>2001-01-12</th>\n",
       "      <td>0.718550</td>\n",
       "      <td>0</td>\n",
       "      <td>1</td>\n",
       "      <td>0</td>\n",
       "      <td>0</td>\n",
       "    </tr>\n",
       "    <tr>\n",
       "      <th>2001-01-15</th>\n",
       "      <td>0.768089</td>\n",
       "      <td>0</td>\n",
       "      <td>1</td>\n",
       "      <td>0</td>\n",
       "      <td>0</td>\n",
       "    </tr>\n",
       "  </tbody>\n",
       "</table>\n",
       "</div>"
      ],
      "text/plain": [
       "            NK_Close  NK_Close_P1  NK_Close_P2  NK_Close_P3  NK_Close_P4\n",
       "Date                                                                    \n",
       "2001-01-09 -1.234906            0            0            0            1\n",
       "2001-01-10 -0.870004            0            0            1            0\n",
       "2001-01-11 -1.148059            0            0            0            1\n",
       "2001-01-12  0.718550            0            1            0            0\n",
       "2001-01-15  0.768089            0            1            0            0"
      ]
     },
     "execution_count": 5,
     "metadata": {},
     "output_type": "execute_result"
    }
   ],
   "source": [
    "#日経平均終値の増減率を4パターンに分類\n",
    "df['NK_Close_P1'] = df['NK_Close'] >=1  \n",
    "df['NK_Close_P2'] =  (0 == df['NK_Close']) | (0 < df['NK_Close']) & (df['NK_Close']<1)\n",
    "df['NK_Close_P3'] =  (-1<= df['NK_Close']) & (df['NK_Close']<0)\n",
    "df['NK_Close_P4'] = df['NK_Close']<-1\n",
    "\n",
    "df['NK_Close_P1'] = df['NK_Close_P1'].astype(np.int)\n",
    "df['NK_Close_P2'] = df['NK_Close_P2'].astype(np.int)\n",
    "df['NK_Close_P3'] = df['NK_Close_P3'].astype(np.int)\n",
    "df['NK_Close_P4'] = df['NK_Close_P4'].astype(np.int)\n",
    "df.head()"
   ]
  },
  {
   "cell_type": "code",
   "execution_count": 6,
   "metadata": {
    "collapsed": true,
    "scrolled": true
   },
   "outputs": [],
   "source": [
    "# 学習データ\n",
    "x_data = np.array(df.iloc[:,0:(len(df.columns)-4)].astype(np.float))\n",
    "\n",
    "# ラベルデータ（増減率４パターン）\n",
    "y_data = np.array(df.iloc[:,(len(df.columns)-4):].astype(np.float)) "
   ]
  },
  {
   "cell_type": "code",
   "execution_count": 7,
   "metadata": {
    "scrolled": true
   },
   "outputs": [
    {
     "name": "stdout",
     "output_type": "stream",
     "text": [
      "n_in: 1\n",
      "n_out: 4\n",
      "x_data.shape[0]: 4211\n",
      "len_seq: 4131\n",
      "len(data): 4131\n",
      "x.shape: (4131, 80) y.shape: (4131, 4)\n"
     ]
    }
   ],
   "source": [
    "maxlen = 80              # 入力系列数\n",
    "n_in = x_data.shape[1]   # 学習データ（＝入力）の列数\n",
    "print(\"n_in:\",n_in)\n",
    "n_out = y_data.shape[1]  # ラベルデータ（=出力）の列数\n",
    "print(\"n_out:\",n_out)\n",
    "len_seq = x_data.shape[0] - maxlen\n",
    "print(\"x_data.shape[0]:\",x_data.shape[0])\n",
    "print(\"len_seq:\",len_seq)\n",
    "\n",
    "data = []\n",
    "target = []\n",
    "for i in range(0, len_seq):\n",
    "  data.append(x_data[i:i+maxlen, :]) #80個ずつずらして取得\n",
    "  target.append(y_data[i+maxlen, :])#80個目から取得\n",
    "\n",
    "print(\"len(data):\",len(data))\n",
    "x = np.array(data).reshape(len(data), maxlen)\n",
    "y = np.array(target).reshape(len(data), n_out)\n",
    "\n",
    "print(\"x.shape:\",x.shape, \"y.shape:\",y.shape)"
   ]
  },
  {
   "cell_type": "code",
   "execution_count": 8,
   "metadata": {
    "scrolled": false
   },
   "outputs": [
    {
     "name": "stdout",
     "output_type": "stream",
     "text": [
      "X_train= [[ 3.12774964e-01 -2.05954358e-01 -4.58675566e-01 ...  1.25167679e+00\n",
      "  -1.90046872e-01 -4.27455253e-01]\n",
      " [-9.62571409e-02 -4.98501231e-01 -9.38752344e-01 ...  2.14284328e-01\n",
      "   8.02581608e-01  2.43156124e-01]\n",
      " [ 7.80475120e-01 -1.47811828e+00  2.41351380e+00 ... -3.31773618e+00\n",
      "   1.66394262e+00  2.05929222e-01]\n",
      " ...\n",
      " [-1.22689368e+00 -1.08609077e+00  1.27663715e+00 ... -1.11091587e+00\n",
      "   2.71688378e-01 -1.18483160e+00]\n",
      " [ 2.03371591e+00 -1.39238813e+00 -1.16026281e+00 ...  3.90599641e-01\n",
      "  -1.07410977e+00  7.89456680e-01]\n",
      " [-9.83240707e-04  1.42243664e+00 -2.35242896e-02 ...  4.50799593e-01\n",
      "   1.81729577e+00 -5.56097523e-01]]\n",
      "\n",
      "X_test= [[ 1.2609117  -0.09625714 -0.49850123 ... -0.15656243  0.21428433\n",
      "   0.80258161]\n",
      " [ 0.04673557  1.17258516 -0.44985223 ... -0.05150277 -0.66001447\n",
      "  -1.39177304]\n",
      " [ 1.28117281  0.59101141  0.73148767 ...  0.05414688 -0.50899228\n",
      "  -0.78474224]\n",
      " ...\n",
      " [ 0.45059617  0.43857464  0.07392685 ... -0.31702074  0.36430654\n",
      "  -0.70944759]\n",
      " [ 0.50883835 -0.95126777 -1.24118493 ... -0.02318343 -1.00713995\n",
      "  -0.60015268]\n",
      " [-0.15904119 -0.43491033  0.48190189 ... -0.24570202 -0.8055632\n",
      "   1.13591584]]\n",
      "\n",
      "y_train= [[0. 1. 0. 0.]\n",
      " [0. 0. 1. 0.]\n",
      " [0. 0. 0. 1.]\n",
      " ...\n",
      " [0. 0. 1. 0.]\n",
      " [0. 1. 0. 0.]\n",
      " [0. 0. 1. 0.]]\n",
      "\n",
      "y_test= [[0. 1. 0. 0.]\n",
      " [0. 1. 0. 0.]\n",
      " [0. 0. 1. 0.]\n",
      " ...\n",
      " [0. 1. 0. 0.]\n",
      " [0. 0. 1. 0.]\n",
      " [0. 1. 0. 0.]]\n",
      "Wall time: 0 ns\n"
     ]
    }
   ],
   "source": [
    "%%time\n",
    "\n",
    "#データを学習用とテスト用に分割 \n",
    "X_train, X_test, y_train, y_test = train_test_split(x, y, test_size=0.1, random_state=1234)\n",
    "\n",
    "print(\"X_train=\",X_train)\n",
    "print()\n",
    "print(\"X_test=\",X_test)\n",
    "print()\n",
    "print(\"y_train=\",y_train)\n",
    "print()\n",
    "print(\"y_test=\",y_test)"
   ]
  },
  {
   "cell_type": "code",
   "execution_count": 9,
   "metadata": {
    "collapsed": true,
    "scrolled": true
   },
   "outputs": [],
   "source": [
    "model = Sequential()\n",
    "model.add(Dense(80, activation='relu', input_dim=80))\n",
    "model.add(Dropout(0.5))\n",
    "model.add(Dense(150, activation='relu'))\n",
    "model.add(Dropout(0.5))\n",
    "model.add(Dense(4, activation='softmax'))#最終層のactivationは変更しないこと\n",
    "   \n",
    "#sgd = SGD(lr=0.03, momentum=0.9, nesterov=False)    \n",
    "#rms = RMSprop(lr=0.03)\n",
    "# adag = Adagrad(lr=0.01)\n",
    "# adad = Adadelta(lr=0.01)\n",
    "adam = Adam(lr=0.03)\n",
    "\n",
    "model.compile(loss='categorical_crossentropy',\n",
    "              optimizer=adam,\n",
    "              metrics=['accuracy'])"
   ]
  },
  {
   "cell_type": "code",
   "execution_count": 10,
   "metadata": {
    "scrolled": false
   },
   "outputs": [
    {
     "name": "stdout",
     "output_type": "stream",
     "text": [
      "Train on 3717 samples, validate on 414 samples\n",
      "Epoch 1/50\n",
      "3717/3717 [==============================] - 1s - loss: 1.6032 - acc: 0.3713 - val_loss: 1.3090 - val_acc: 0.3986\n",
      "Epoch 2/50\n",
      "3717/3717 [==============================] - 0s - loss: 1.3175 - acc: 0.3777 - val_loss: 1.2994 - val_acc: 0.3986\n",
      "Epoch 3/50\n",
      "3717/3717 [==============================] - 0s - loss: 1.2893 - acc: 0.3807 - val_loss: 1.2931 - val_acc: 0.3986\n",
      "Epoch 4/50\n",
      "3717/3717 [==============================] - 0s - loss: 1.3084 - acc: 0.3847 - val_loss: 1.3114 - val_acc: 0.3986\n",
      "Epoch 5/50\n",
      "3717/3717 [==============================] - 0s - loss: 1.3121 - acc: 0.3737 - val_loss: 1.2983 - val_acc: 0.3986\n",
      "Epoch 6/50\n",
      "3717/3717 [==============================] - 0s - loss: 1.2909 - acc: 0.3745 - val_loss: 1.3002 - val_acc: 0.3140\n",
      "Epoch 7/50\n",
      "3717/3717 [==============================] - 0s - loss: 1.2609 - acc: 0.3740 - val_loss: 1.2967 - val_acc: 0.3140\n",
      "Epoch 8/50\n",
      "3717/3717 [==============================] - 0s - loss: 1.3159 - acc: 0.3775 - val_loss: 5.4466 - val_acc: 0.3986\n",
      "Epoch 9/50\n",
      "3717/3717 [==============================] - 0s - loss: 1.3338 - acc: 0.3882 - val_loss: 1.3019 - val_acc: 0.3140\n",
      "Epoch 10/50\n",
      "3717/3717 [==============================] - 0s - loss: 1.2721 - acc: 0.3858 - val_loss: 1.2977 - val_acc: 0.3140\n",
      "Epoch 11/50\n",
      "3717/3717 [==============================] - 0s - loss: 1.2922 - acc: 0.3826 - val_loss: 1.3045 - val_acc: 0.3140\n",
      "Epoch 12/50\n",
      "3717/3717 [==============================] - 0s - loss: 1.2956 - acc: 0.3842 - val_loss: 1.3169 - val_acc: 0.3986\n",
      "Epoch 13/50\n",
      "3717/3717 [==============================] - 0s - loss: 1.2959 - acc: 0.3812 - val_loss: 1.3086 - val_acc: 0.3986\n",
      "Epoch 14/50\n",
      "3717/3717 [==============================] - 0s - loss: 1.2620 - acc: 0.3810 - val_loss: 1.2986 - val_acc: 0.3986\n",
      "Epoch 15/50\n",
      "3717/3717 [==============================] - 0s - loss: 1.2553 - acc: 0.3820 - val_loss: 1.2967 - val_acc: 0.3986\n",
      "Epoch 16/50\n",
      "3717/3717 [==============================] - 0s - loss: 1.2640 - acc: 0.3608 - val_loss: 1.2899 - val_acc: 0.3986\n",
      "Epoch 17/50\n",
      "3717/3717 [==============================] - 0s - loss: 1.2646 - acc: 0.3764 - val_loss: 1.2990 - val_acc: 0.3140\n",
      "Epoch 18/50\n",
      "3717/3717 [==============================] - 0s - loss: 1.2666 - acc: 0.3783 - val_loss: 1.3060 - val_acc: 0.3986\n",
      "Epoch 19/50\n",
      "3717/3717 [==============================] - 0s - loss: 1.2685 - acc: 0.3732 - val_loss: 1.2969 - val_acc: 0.3986\n",
      "Epoch 20/50\n",
      "3717/3717 [==============================] - 0s - loss: 1.2747 - acc: 0.3826 - val_loss: 1.4022 - val_acc: 0.3140\n",
      "Epoch 21/50\n",
      "3717/3717 [==============================] - 0s - loss: 1.3735 - acc: 0.3785 - val_loss: 1.3004 - val_acc: 0.3986\n",
      "Epoch 22/50\n",
      "3717/3717 [==============================] - 0s - loss: 1.2623 - acc: 0.3758 - val_loss: 1.3104 - val_acc: 0.3986\n",
      "Epoch 23/50\n",
      "3717/3717 [==============================] - 0s - loss: 1.2452 - acc: 0.3710 - val_loss: 1.3041 - val_acc: 0.3986\n",
      "Epoch 24/50\n",
      "3717/3717 [==============================] - 0s - loss: 1.2544 - acc: 0.3799 - val_loss: 1.3052 - val_acc: 0.3140\n",
      "Epoch 25/50\n",
      "3717/3717 [==============================] - 0s - loss: 1.2572 - acc: 0.3756 - val_loss: 1.2998 - val_acc: 0.3986\n",
      "Epoch 26/50\n",
      "3717/3717 [==============================] - 0s - loss: 1.2544 - acc: 0.3753 - val_loss: 1.2987 - val_acc: 0.3140\n",
      "Epoch 27/50\n",
      "3717/3717 [==============================] - 0s - loss: 1.2496 - acc: 0.3721 - val_loss: 1.3077 - val_acc: 0.3986\n",
      "Epoch 28/50\n",
      "3717/3717 [==============================] - 0s - loss: 1.2512 - acc: 0.3836 - val_loss: 1.3019 - val_acc: 0.3140\n",
      "Epoch 29/50\n",
      "3717/3717 [==============================] - 0s - loss: 1.2699 - acc: 0.3723 - val_loss: 1.2965 - val_acc: 0.3986\n",
      "Epoch 30/50\n",
      "3717/3717 [==============================] - 0s - loss: 1.2627 - acc: 0.3839 - val_loss: 1.3066 - val_acc: 0.3986\n",
      "Epoch 31/50\n",
      "3717/3717 [==============================] - 0s - loss: 1.2518 - acc: 0.3920 - val_loss: 1.2948 - val_acc: 0.3986\n",
      "Epoch 32/50\n",
      "3717/3717 [==============================] - 0s - loss: 1.2789 - acc: 0.3707 - val_loss: 1.2972 - val_acc: 0.3986\n",
      "Epoch 33/50\n",
      "3717/3717 [==============================] - 0s - loss: 1.3667 - acc: 0.3847 - val_loss: 1.2963 - val_acc: 0.3986\n",
      "Epoch 34/50\n",
      "3717/3717 [==============================] - 0s - loss: 1.3550 - acc: 0.3818 - val_loss: 1.3003 - val_acc: 0.3140\n",
      "Epoch 35/50\n",
      "3717/3717 [==============================] - 0s - loss: 1.2898 - acc: 0.3788 - val_loss: 1.2899 - val_acc: 0.3986\n",
      "Epoch 36/50\n",
      "3717/3717 [==============================] - 0s - loss: 1.2539 - acc: 0.3890 - val_loss: 1.3187 - val_acc: 0.3140\n",
      "Epoch 37/50\n",
      "3717/3717 [==============================] - 0s - loss: 1.2610 - acc: 0.3820 - val_loss: 1.2948 - val_acc: 0.3986\n",
      "Epoch 38/50\n",
      "3717/3717 [==============================] - 0s - loss: 1.2622 - acc: 0.3818 - val_loss: 1.2925 - val_acc: 0.3986\n",
      "Epoch 39/50\n",
      "3717/3717 [==============================] - 0s - loss: 1.2554 - acc: 0.3828 - val_loss: 1.2955 - val_acc: 0.3986\n",
      "Epoch 40/50\n",
      "3717/3717 [==============================] - 0s - loss: 1.2712 - acc: 0.3659 - val_loss: 1.2943 - val_acc: 0.3986\n",
      "Epoch 41/50\n",
      "3717/3717 [==============================] - 0s - loss: 1.2726 - acc: 0.3836 - val_loss: 1.2975 - val_acc: 0.3986\n",
      "Epoch 42/50\n",
      "3717/3717 [==============================] - 0s - loss: 1.2524 - acc: 0.3672 - val_loss: 1.2997 - val_acc: 0.3140\n",
      "Epoch 43/50\n",
      "3717/3717 [==============================] - 0s - loss: 1.2480 - acc: 0.3742 - val_loss: 1.3076 - val_acc: 0.3986\n",
      "Epoch 44/50\n",
      "3717/3717 [==============================] - 0s - loss: 1.2506 - acc: 0.3828 - val_loss: 1.3017 - val_acc: 0.3986\n",
      "Epoch 45/50\n",
      "3717/3717 [==============================] - 0s - loss: 1.2546 - acc: 0.3850 - val_loss: 1.2989 - val_acc: 0.3140\n",
      "Epoch 46/50\n",
      "3717/3717 [==============================] - 0s - loss: 1.2492 - acc: 0.3783 - val_loss: 1.2973 - val_acc: 0.3986\n",
      "Epoch 47/50\n",
      "3717/3717 [==============================] - 0s - loss: 1.2627 - acc: 0.3901 - val_loss: 1.2947 - val_acc: 0.3986\n",
      "Epoch 48/50\n",
      "3717/3717 [==============================] - 0s - loss: 1.2515 - acc: 0.3772 - val_loss: 1.3054 - val_acc: 0.3986\n",
      "Epoch 49/50\n",
      "3717/3717 [==============================] - 0s - loss: 1.2505 - acc: 0.3820 - val_loss: 1.3162 - val_acc: 0.3140\n",
      "Epoch 50/50\n",
      "3717/3717 [==============================] - 0s - loss: 1.2468 - acc: 0.3799 - val_loss: 1.3031 - val_acc: 0.3986\n"
     ]
    },
    {
     "data": {
      "image/png": "[encoded data removed]",
      "text/plain": [
       "<matplotlib.figure.Figure at 0x16bd86fe9e8>"
      ]
     },
     "metadata": {},
     "output_type": "display_data"
    },
    {
     "data": {
      "image/png": "[encoded data removed]",
      "text/plain": [
       "<matplotlib.figure.Figure at 0x16bd74f1780>"
      ]
     },
     "metadata": {},
     "output_type": "display_data"
    },
    {
     "name": "stdout",
     "output_type": "stream",
     "text": [
      "260/414 [=================>............] - ETA: 0sscore: [1.303099899476277, 0.39855073266415203]\n",
      "識別率（騰落４分類）: 0.39855\n",
      "識別率（騰落）: 0.53623\n"
     ]
    }
   ],
   "source": [
    "# 学習\n",
    "fit = model.fit(X_train, y_train,\n",
    "          epochs=50,\n",
    "          batch_size=10,validation_data=(X_test, y_test))\n",
    "\n",
    "# 各epochにおける損失と精度をdfに入れる\n",
    "df = pd.DataFrame(fit.history)\n",
    "\n",
    "# グラフ化\n",
    "df[[\"loss\", \"val_loss\"]].plot()\n",
    "plt.ylabel(\"loss\")\n",
    "plt.xlabel(\"epoch\")\n",
    "plt.show()\n",
    "\n",
    "df[[\"acc\", \"val_acc\"]].plot()\n",
    "plt.ylabel(\"acc\")\n",
    "plt.xlabel(\"epoch\")\n",
    "plt.ylim([0,1.0])\n",
    "plt.show()\n",
    "\n",
    "#テスト\n",
    "score = model.evaluate(X_test, y_test, batch_size = 10, verbose = 1)\n",
    "print(\"score:\", score)\n",
    "# \n",
    "#識別率（騰落４分類）\n",
    "y_pred = model.predict(X_test)\n",
    "correct = 0\n",
    "semi_correct = 0\n",
    "for i in range(len(y_pred)):\n",
    "  pred = np.argmax(y_pred[i,:])\n",
    "  tar = np.argmax(y_test[i,:])\n",
    "  if pred == tar :\n",
    "    correct += 1\n",
    "  else :\n",
    "    if pred+tar == 1 or pred+tar == 5 :\n",
    "      semi_correct += 1\n",
    "\n",
    "print(\"識別率（騰落４分類）: %6.5f\" % (1.0 * correct / len(y_pred)))\n",
    "print(\"識別率（騰落）: %6.5f\" % (1.0 * (correct+semi_correct) / len(y_pred)))"
   ]
  }
 ],
 "metadata": {
  "kernelspec": {
   "display_name": "Python 3",
   "language": "python",
   "name": "python3"
  },
  "language_info": {
   "codemirror_mode": {
    "name": "ipython",
    "version": 3
   },
   "file_extension": ".py",
   "mimetype": "text/x-python",
   "name": "python",
   "nbconvert_exporter": "python",
   "pygments_lexer": "ipython3",
   "version": "3.6.3"
  }
 },
 "nbformat": 4,
 "nbformat_minor": 2
}
