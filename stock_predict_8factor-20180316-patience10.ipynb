{
 "cells": [
  {
   "cell_type": "code",
   "execution_count": 1,
   "metadata": {},
   "outputs": [
    {
     "name": "stderr",
     "output_type": "stream",
     "text": [
      "C:\\Users\\yt690\\Anaconda3\\lib\\site-packages\\h5py\\__init__.py:34: FutureWarning: Conversion of the second argument of issubdtype from `float` to `np.floating` is deprecated. In future, it will be treated as `np.float64 == np.dtype(float).type`.\n",
      "  from ._conv import register_converters as _register_converters\n",
      "Using TensorFlow backend.\n"
     ]
    }
   ],
   "source": [
    "import tensorflow as tf\n",
    "import numpy as np\n",
    "import pandas as pd\n",
    "import matplotlib.pyplot as plt\n",
    "import csv\n",
    "import time\n",
    "\n",
    "from __future__ import print_function\n",
    "from keras.layers.core import Activation\n",
    "from keras.layers.core import Dense\n",
    "from keras.layers.core import Dropout\n",
    "from keras.models import Sequential\n",
    "from keras.utils import np_utils\n",
    "\n",
    "from keras.layers.recurrent import LSTM\n",
    "from keras.callbacks import EarlyStopping\n",
    "from keras.initializers import glorot_uniform\n",
    "from keras.initializers import orthogonal\n",
    "from keras.initializers import TruncatedNormal\n",
    "from keras import optimizers\n",
    "from sklearn.utils import shuffle\n",
    "from sklearn.model_selection import train_test_split\n",
    "from sklearn.metrics import mean_squared_error, mean_absolute_error\n",
    "\n",
    "from keras.utils import plot_model\n",
    "from IPython.display import SVG\n",
    "from keras.utils.vis_utils import model_to_dot"
   ]
  },
  {
   "cell_type": "markdown",
   "metadata": {},
   "source": [
    "### CSVファイル読み込み"
   ]
  },
  {
   "cell_type": "code",
   "execution_count": 2,
   "metadata": {},
   "outputs": [
    {
     "name": "stdout",
     "output_type": "stream",
     "text": [
      "x_data.shape= (4211, 8)\n",
      "y_data.shape= (4211, 4)\n"
     ]
    }
   ],
   "source": [
    "# 学習データの読み込み\n",
    "df1 =csv.reader(open('marketdata2.csv', 'r', encoding=\"utf-8\"))\n",
    "data1 = [ v for v in df1]\n",
    "\n",
    "mat = np.array(data1)\n",
    "mat2 = mat[1:]                        # 見出し行を外す\n",
    "x_data = mat2[:, 1:].astype(np.float)  # 2列目以降を抜き出してfloat変換\n",
    "print('x_data.shape=', x_data.shape)\n",
    "\n",
    "# ラベルデータ（前日比騰落率を1％以上／0％以上／-1％以上／-1％未満の４つに分類）\n",
    "df2 = csv.reader(open('marketdata_onehot.csv', 'r', encoding=\"utf-8\"))\n",
    "data2 = [ v for v in df2]\n",
    "mat3 = np.array(data2)\n",
    "mat4 = mat3[1:]                       # 見出し行を外す\n",
    "y_data = mat4[:, 1:].astype(np.float)  # 2列目以降を抜き出してfloat変換\n",
    "print('y_data.shape=', y_data.shape)"
   ]
  },
  {
   "cell_type": "code",
   "execution_count": 3,
   "metadata": {},
   "outputs": [
    {
     "name": "stdout",
     "output_type": "stream",
     "text": [
      "n_in: 8\n",
      "n_out: 4\n",
      "x_data.shape[0]: 4211\n",
      "len_seq: 4132\n",
      "len(data): 4132\n",
      "(4132, 80, 8) (4132, 4)\n"
     ]
    }
   ],
   "source": [
    "maxlen = 80              # 入力系列数\n",
    "n_in = x_data.shape[1]   # 学習データ（＝入力）の列数\n",
    "print(\"n_in:\",n_in)\n",
    "n_out = y_data.shape[1]  # ラベルデータ（=出力）の列数\n",
    "print(\"n_out:\",n_out)\n",
    "len_seq = x_data.shape[0] - maxlen + 1\n",
    "print(\"x_data.shape[0]:\",x_data.shape[0])\n",
    "print(\"len_seq:\",len_seq)\n",
    "\n",
    "data = []\n",
    "target = []\n",
    "for i in range(0, len_seq):\n",
    "  data.append(x_data[i:i+maxlen, :]) #80個ずつずらして取得\n",
    "  target.append(y_data[i+maxlen-1, :])#80個目から取得\n",
    "\n",
    "print(\"len(data):\",len(data))\n",
    "x = np.array(data).reshape(len(data), maxlen, n_in)\n",
    "y = np.array(target).reshape(len(data), n_out)\n",
    "\n",
    "print(x.shape, y.shape)"
   ]
  },
  {
   "cell_type": "code",
   "execution_count": 4,
   "metadata": {},
   "outputs": [
    {
     "name": "stdout",
     "output_type": "stream",
     "text": [
      "_________________________________________________________________\n",
      "Layer (type)                 Output Shape              Param #   \n",
      "=================================================================\n",
      "lstm_1 (LSTM)                (None, 80)                28480     \n",
      "_________________________________________________________________\n",
      "dropout_1 (Dropout)          (None, 80)                0         \n",
      "_________________________________________________________________\n",
      "dense_1 (Dense)              (None, 4)                 324       \n",
      "_________________________________________________________________\n",
      "activation_1 (Activation)    (None, 4)                 0         \n",
      "=================================================================\n",
      "Total params: 28,804\n",
      "Trainable params: 28,804\n",
      "Non-trainable params: 0\n",
      "_________________________________________________________________\n"
     ]
    },
    {
     "data": {
      "image/svg+xml": [
       "<svg height=\"337pt\" viewBox=\"0.00 0.00 165.00 337.00\" width=\"165pt\" xmlns=\"http://www.w3.org/2000/svg\" xmlns:xlink=\"http://www.w3.org/1999/xlink\">\n",
       "<g class=\"graph\" id=\"graph0\" transform=\"scale(1 1) rotate(0) translate(4 333)\">\n",
       "<title>G</title>\n",
       "<polygon fill=\"white\" points=\"-4,4 -4,-333 161,-333 161,4 -4,4\" stroke=\"none\"/>\n",
       "<!-- 1966415228152 -->\n",
       "<g class=\"node\" id=\"node1\"><title>1966415228152</title>\n",
       "<polygon fill=\"none\" points=\"0,-292.5 0,-328.5 157,-328.5 157,-292.5 0,-292.5\" stroke=\"black\"/>\n",
       "<text font-family=\"Times New Roman,serif\" font-size=\"14.00\" text-anchor=\"middle\" x=\"78.5\" y=\"-306.8\">lstm_1_input: InputLayer</text>\n",
       "</g>\n",
       "<!-- 1966415227648 -->\n",
       "<g class=\"node\" id=\"node2\"><title>1966415227648</title>\n",
       "<polygon fill=\"none\" points=\"29.5,-219.5 29.5,-255.5 127.5,-255.5 127.5,-219.5 29.5,-219.5\" stroke=\"black\"/>\n",
       "<text font-family=\"Times New Roman,serif\" font-size=\"14.00\" text-anchor=\"middle\" x=\"78.5\" y=\"-233.8\">lstm_1: LSTM</text>\n",
       "</g>\n",
       "<!-- 1966415228152&#45;&gt;1966415227648 -->\n",
       "<g class=\"edge\" id=\"edge1\"><title>1966415228152-&gt;1966415227648</title>\n",
       "<path d=\"M78.5,-292.313C78.5,-284.289 78.5,-274.547 78.5,-265.569\" fill=\"none\" stroke=\"black\"/>\n",
       "<polygon fill=\"black\" points=\"82.0001,-265.529 78.5,-255.529 75.0001,-265.529 82.0001,-265.529\" stroke=\"black\"/>\n",
       "</g>\n",
       "<!-- 1966415227368 -->\n",
       "<g class=\"node\" id=\"node3\"><title>1966415227368</title>\n",
       "<polygon fill=\"none\" points=\"13.5,-146.5 13.5,-182.5 143.5,-182.5 143.5,-146.5 13.5,-146.5\" stroke=\"black\"/>\n",
       "<text font-family=\"Times New Roman,serif\" font-size=\"14.00\" text-anchor=\"middle\" x=\"78.5\" y=\"-160.8\">dropout_1: Dropout</text>\n",
       "</g>\n",
       "<!-- 1966415227648&#45;&gt;1966415227368 -->\n",
       "<g class=\"edge\" id=\"edge2\"><title>1966415227648-&gt;1966415227368</title>\n",
       "<path d=\"M78.5,-219.313C78.5,-211.289 78.5,-201.547 78.5,-192.569\" fill=\"none\" stroke=\"black\"/>\n",
       "<polygon fill=\"black\" points=\"82.0001,-192.529 78.5,-182.529 75.0001,-192.529 82.0001,-192.529\" stroke=\"black\"/>\n",
       "</g>\n",
       "<!-- 1966462385176 -->\n",
       "<g class=\"node\" id=\"node4\"><title>1966462385176</title>\n",
       "<polygon fill=\"none\" points=\"26.5,-73.5 26.5,-109.5 130.5,-109.5 130.5,-73.5 26.5,-73.5\" stroke=\"black\"/>\n",
       "<text font-family=\"Times New Roman,serif\" font-size=\"14.00\" text-anchor=\"middle\" x=\"78.5\" y=\"-87.8\">dense_1: Dense</text>\n",
       "</g>\n",
       "<!-- 1966415227368&#45;&gt;1966462385176 -->\n",
       "<g class=\"edge\" id=\"edge3\"><title>1966415227368-&gt;1966462385176</title>\n",
       "<path d=\"M78.5,-146.313C78.5,-138.289 78.5,-128.547 78.5,-119.569\" fill=\"none\" stroke=\"black\"/>\n",
       "<polygon fill=\"black\" points=\"82.0001,-119.529 78.5,-109.529 75.0001,-119.529 82.0001,-119.529\" stroke=\"black\"/>\n",
       "</g>\n",
       "<!-- 1966415225744 -->\n",
       "<g class=\"node\" id=\"node5\"><title>1966415225744</title>\n",
       "<polygon fill=\"none\" points=\"4.5,-0.5 4.5,-36.5 152.5,-36.5 152.5,-0.5 4.5,-0.5\" stroke=\"black\"/>\n",
       "<text font-family=\"Times New Roman,serif\" font-size=\"14.00\" text-anchor=\"middle\" x=\"78.5\" y=\"-14.8\">activation_1: Activation</text>\n",
       "</g>\n",
       "<!-- 1966462385176&#45;&gt;1966415225744 -->\n",
       "<g class=\"edge\" id=\"edge4\"><title>1966462385176-&gt;1966415225744</title>\n",
       "<path d=\"M78.5,-73.3129C78.5,-65.2895 78.5,-55.5475 78.5,-46.5691\" fill=\"none\" stroke=\"black\"/>\n",
       "<polygon fill=\"black\" points=\"82.0001,-46.5288 78.5,-36.5288 75.0001,-46.5289 82.0001,-46.5288\" stroke=\"black\"/>\n",
       "</g>\n",
       "</g>\n",
       "</svg>"
      ],
      "text/plain": [
       "<IPython.core.display.SVG object>"
      ]
     },
     "execution_count": 4,
     "metadata": {},
     "output_type": "execute_result"
    }
   ],
   "source": [
    "n_hidden = 80     # 出力次元\n",
    "epochs = 100      # エポック数\n",
    "batch_size = 10   # ミニバッチサイズ\n",
    "\n",
    "# ネットワークモデル構築\n",
    "model = Sequential()\n",
    "model.add(LSTM(n_hidden, batch_input_shape = (None, maxlen, n_in),kernel_initializer = glorot_uniform(seed=1234), recurrent_initializer = orthogonal(gain=1.0, seed=1234), dropout = 0.5, recurrent_dropout = 0.5))\n",
    "model.add(Dropout(0.5))\n",
    "model.add(Dense(n_out,kernel_initializer = glorot_uniform(seed=1234)))\n",
    "model.add(Activation(\"softmax\"))\n",
    "model.compile(loss=\"categorical_crossentropy\", optimizer = \"RMSprop\", metrics = ['accuracy'])\n",
    "\n",
    "# モデルのサマリを表示\n",
    "model.summary()\n",
    "plot_model(model, to_file='model.png')\n",
    "SVG(model_to_dot(model).create(prog='dot', format='svg'))"
   ]
  },
  {
   "cell_type": "code",
   "execution_count": 5,
   "metadata": {},
   "outputs": [
    {
     "name": "stdout",
     "output_type": "stream",
     "text": [
      "Train on 3346 samples, validate on 372 samples\n",
      "Epoch 1/100\n",
      "3346/3346 [==============================] - 24s - loss: 1.2395 - acc: 0.4047 - val_loss: 1.0246 - val_acc: 0.5753\n",
      "Epoch 2/100\n",
      "3346/3346 [==============================] - 27s - loss: 0.9883 - acc: 0.5580 - val_loss: 0.7242 - val_acc: 0.6962\n",
      "Epoch 3/100\n",
      "3346/3346 [==============================] - 28s - loss: 0.8266 - acc: 0.6342 - val_loss: 0.5561 - val_acc: 0.7984\n",
      "Epoch 4/100\n",
      "3346/3346 [==============================] - 24s - loss: 0.7550 - acc: 0.6629 - val_loss: 0.4821 - val_acc: 0.8575\n",
      "Epoch 5/100\n",
      "3346/3346 [==============================] - 23s - loss: 0.7022 - acc: 0.6922 - val_loss: 0.4257 - val_acc: 0.8763\n",
      "Epoch 6/100\n",
      "3346/3346 [==============================] - 23s - loss: 0.6602 - acc: 0.7140 - val_loss: 0.3937 - val_acc: 0.8575\n",
      "Epoch 7/100\n",
      "3346/3346 [==============================] - 23s - loss: 0.6444 - acc: 0.7227 - val_loss: 0.3872 - val_acc: 0.8468\n",
      "Epoch 8/100\n",
      "3346/3346 [==============================] - 24s - loss: 0.5849 - acc: 0.7454 - val_loss: 0.3294 - val_acc: 0.8656\n",
      "Epoch 9/100\n",
      "3346/3346 [==============================] - 23s - loss: 0.5799 - acc: 0.7487 - val_loss: 0.3481 - val_acc: 0.8548\n",
      "Epoch 10/100\n",
      "3346/3346 [==============================] - 22s - loss: 0.5527 - acc: 0.7570 - val_loss: 0.2775 - val_acc: 0.8978\n",
      "Epoch 11/100\n",
      "3346/3346 [==============================] - 22s - loss: 0.5356 - acc: 0.7699 - val_loss: 0.3424 - val_acc: 0.8441\n",
      "Epoch 12/100\n",
      "3346/3346 [==============================] - 23s - loss: 0.5219 - acc: 0.7764 - val_loss: 0.3990 - val_acc: 0.8011\n",
      "Epoch 13/100\n",
      "3346/3346 [==============================] - 21s - loss: 0.5174 - acc: 0.7827 - val_loss: 0.3622 - val_acc: 0.8253\n",
      "Epoch 14/100\n",
      "3346/3346 [==============================] - 22s - loss: 0.5037 - acc: 0.7794 - val_loss: 0.3527 - val_acc: 0.8387\n",
      "Epoch 15/100\n",
      "3346/3346 [==============================] - 24s - loss: 0.4482 - acc: 0.8072 - val_loss: 0.3581 - val_acc: 0.8495\n",
      "Epoch 16/100\n",
      "3346/3346 [==============================] - 25s - loss: 0.4862 - acc: 0.7944 - val_loss: 0.3078 - val_acc: 0.8710\n",
      "Epoch 17/100\n",
      "3346/3346 [==============================] - 23s - loss: 0.4627 - acc: 0.7980 - val_loss: 0.3630 - val_acc: 0.8333\n",
      "Epoch 18/100\n",
      "3346/3346 [==============================] - 23s - loss: 0.4406 - acc: 0.8156 - val_loss: 0.3993 - val_acc: 0.8280\n",
      "Epoch 19/100\n",
      "3346/3346 [==============================] - 23s - loss: 0.4480 - acc: 0.8084 - val_loss: 0.3727 - val_acc: 0.8360\n",
      "Epoch 20/100\n",
      "3346/3346 [==============================] - 23s - loss: 0.4482 - acc: 0.8075 - val_loss: 0.4403 - val_acc: 0.8091\n",
      "Epoch 21/100\n",
      "3346/3346 [==============================] - 23s - loss: 0.4235 - acc: 0.8195 - val_loss: 0.4219 - val_acc: 0.8091\n",
      "Epoch 00020: early stopping\n"
     ]
    },
    {
     "data": {
      "image/png": "[encoded data removed]",
      "text/plain": [
       "<matplotlib.figure.Figure at 0x1c9dbba92e8>"
      ]
     },
     "metadata": {},
     "output_type": "display_data"
    },
    {
     "data": {
      "image/png": "[encoded data removed]",
      "text/plain": [
       "<matplotlib.figure.Figure at 0x1c9de4cf898>"
      ]
     },
     "metadata": {},
     "output_type": "display_data"
    },
    {
     "name": "stdout",
     "output_type": "stream",
     "text": [
      "Wall time: 8min 25s\n"
     ]
    }
   ],
   "source": [
    "%%time\n",
    "\n",
    "#データを学習用とテスト用に分割 \n",
    "x_train, x_test, y_train, y_test = train_test_split(x,y, test_size=0.1, random_state=1234)         \n",
    "\n",
    "# 学習\n",
    "early_stopping = EarlyStopping(patience=10, verbose=1)\n",
    "history = model.fit(x_train, y_train, batch_size = batch_size, epochs = epochs, verbose = 1,shuffle = True, callbacks = [early_stopping], validation_split = 0.1)\n",
    "\n",
    "# 精度の履歴をプロット\n",
    "plt.plot(history.history['acc'])\n",
    "plt.plot(history.history['val_acc'])\n",
    "plt.title('model accuracy')\n",
    "plt.xlabel('epoch')\n",
    "plt.ylabel('accuracy')\n",
    "plt.legend(['acc', 'val_acc'], loc='lower right')\n",
    "plt.show()\n",
    "\n",
    "# 損失の履歴をプロット\n",
    "plt.plot(history.history['loss'])\n",
    "plt.plot(history.history['val_loss'])\n",
    "plt.title('model loss')\n",
    "plt.xlabel('epoch')\n",
    "plt.ylabel('loss')\n",
    "plt.legend(['loss', 'val_loss'], loc='lower right')\n",
    "plt.show()"
   ]
  },
  {
   "cell_type": "code",
   "execution_count": 6,
   "metadata": {},
   "outputs": [
    {
     "name": "stdout",
     "output_type": "stream",
     "text": [
      "390/414 [===========================>..] - ETA: 0sscore: [0.36349848182736966, 0.8405797038101344]\n",
      "識別率（騰落４分類）: 0.84058\n",
      "識別率（騰落）: 0.98551\n"
     ]
    }
   ],
   "source": [
    "# テスト\n",
    "score = model.evaluate(x_test, y_test, batch_size = batch_size, verbose = 1)\n",
    "print(\"score:\", score)\n",
    "\n",
    "#識別率（騰落４分類）\n",
    "y_pred = model.predict(x_test)\n",
    "correct = 0\n",
    "semi_correct = 0\n",
    "for i in range(len(y_pred)):\n",
    "  pred = np.argmax(y_pred[i,:])\n",
    "  tar = np.argmax(y_test[i,:])\n",
    "  if pred == tar :\n",
    "    correct += 1\n",
    "  else :\n",
    "    if pred+tar == 1 or pred+tar == 5 :\n",
    "      semi_correct += 1\n",
    "\n",
    "print(\"識別率（騰落４分類）: %6.5f\" % (1.0 * correct / len(y_pred)))\n",
    "print(\"識別率（騰落）: %6.5f\" % (1.0 * (correct+semi_correct) / len(y_pred)))"
   ]
  }
 ],
 "metadata": {
  "kernelspec": {
   "display_name": "Python 3",
   "language": "python",
   "name": "python3"
  },
  "language_info": {
   "codemirror_mode": {
    "name": "ipython",
    "version": 3
   },
   "file_extension": ".py",
   "mimetype": "text/x-python",
   "name": "python",
   "nbconvert_exporter": "python",
   "pygments_lexer": "ipython3",
   "version": "3.6.3"
  }
 },
 "nbformat": 4,
 "nbformat_minor": 2
}
