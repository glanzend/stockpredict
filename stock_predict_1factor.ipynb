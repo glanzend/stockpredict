{
 "cells": [
  {
   "cell_type": "code",
   "execution_count": 1,
   "metadata": {},
   "outputs": [
    {
     "name": "stderr",
     "output_type": "stream",
     "text": [
      "C:\\Users\\yt690\\Anaconda3\\lib\\site-packages\\h5py\\__init__.py:34: FutureWarning: Conversion of the second argument of issubdtype from `float` to `np.floating` is deprecated. In future, it will be treated as `np.float64 == np.dtype(float).type`.\n",
      "  from ._conv import register_converters as _register_converters\n",
      "Using TensorFlow backend.\n"
     ]
    }
   ],
   "source": [
    "import tensorflow as tf\n",
    "import numpy as np\n",
    "import pandas as pd\n",
    "import matplotlib.pyplot as plt\n",
    "import csv\n",
    "\n",
    "from __future__ import print_function\n",
    "from keras.layers.core import Activation\n",
    "from keras.layers.core import Dense\n",
    "from keras.layers.core import Dropout\n",
    "from keras.models import Sequential\n",
    "from keras.utils import np_utils\n",
    "from keras.utils import plot_model\n",
    "\n",
    "from keras.layers.recurrent import LSTM\n",
    "from keras.callbacks import EarlyStopping\n",
    "from keras.initializers import glorot_uniform\n",
    "from keras.initializers import orthogonal\n",
    "from keras.initializers import TruncatedNormal"
   ]
  },
  {
   "cell_type": "markdown",
   "metadata": {},
   "source": [
    "### CSVファイル読み込み"
   ]
  },
  {
   "cell_type": "code",
   "execution_count": 2,
   "metadata": {},
   "outputs": [
    {
     "name": "stdout",
     "output_type": "stream",
     "text": [
      "x_data.shape= (4211, 1)\n",
      "t_data.shape= (4211, 4)\n"
     ]
    }
   ],
   "source": [
    "# 学習データ\n",
    "df1 =csv.reader(open('marketdata.csv', 'r', encoding=\"utf-8\"))\n",
    "data1 = [ v for v in df1]\n",
    "\n",
    "mat = np.array(data1)\n",
    "mat2 = mat[1:]                        # 見出し行を外す\n",
    "x_data = mat2[:, 1:].astype(np.float)  # 2列目以降を抜き出してfloat変換\n",
    "print('x_data.shape=', x_data.shape)\n",
    "\n",
    "# ラベルデータ\n",
    "# 1％以上／0％以上／-1％以上／-1％未満\n",
    "df2 = csv.reader(open('marketdata_onehot.csv', 'r', encoding=\"utf-8\"))\n",
    "data2 = [ v for v in df2]\n",
    "mat3 = np.array(data2)\n",
    "mat4 = mat3[1:]                       # 見出し行を外す\n",
    "t_data = mat4[:, 1:].astype(np.float)  # 2列目以降を抜き出してfloat変換\n",
    "print('t_data.shape=', t_data.shape)"
   ]
  },
  {
   "cell_type": "code",
   "execution_count": 3,
   "metadata": {},
   "outputs": [
    {
     "name": "stdout",
     "output_type": "stream",
     "text": [
      "n_in: 1\n",
      "n_out: 4\n",
      "x_data.shape[0]: 4211\n",
      "len_seq: 4132\n",
      "len(data): 4132\n",
      "(4132, 80, 1) (4132, 4)\n",
      "(3718, 80, 1) (414, 80, 1) (3718, 4) (414, 4)\n"
     ]
    }
   ],
   "source": [
    "maxlen = 80              # 入力系列数\n",
    "n_in = x_data.shape[1]   # 学習データ（＝入力）の列数\n",
    "print(\"n_in:\",n_in)\n",
    "n_out = t_data.shape[1]  # ラベルデータ（=出力）の列数prin(\"n_in:\",n_in)\n",
    "print(\"n_out:\",n_out)\n",
    "len_seq = x_data.shape[0] - maxlen + 1\n",
    "print(\"x_data.shape[0]:\",x_data.shape[0])\n",
    "print(\"len_seq:\",len_seq)\n",
    "\n",
    "data = []\n",
    "target = []\n",
    "for i in range(0, len_seq):\n",
    "  data.append(x_data[i:i+maxlen, :]) #80個ずつずらして取得\n",
    "  target.append(t_data[i+maxlen-1, :])#80個目から取得\n",
    "\n",
    "print(\"len(data):\",len(data))\n",
    "x = np.array(data).reshape(len(data), maxlen, n_in)\n",
    "t = np.array(target).reshape(len(data), n_out)\n",
    "\n",
    "print(x.shape, t.shape)\n",
    "\n",
    "# ここからソースコードの後半\n",
    "n_train = int(len(data)*0.9)              # 訓練データ長\n",
    "x_train,x_test = np.vsplit(x, [n_train])  # 学習データを訓練用とテスト用に分割\n",
    "t_train,t_test = np.vsplit(t, [n_train])  # ラベルデータを訓練用とテスト用に分割\n",
    "\n",
    "print(x_train.shape, x_test.shape, t_train.shape, t_test.shape)"
   ]
  },
  {
   "cell_type": "code",
   "execution_count": 4,
   "metadata": {
    "collapsed": true
   },
   "outputs": [],
   "source": [
    "class Prediction :\n",
    "  def __init__(self, maxlen, n_hidden, n_in, n_out):\n",
    "    self.maxlen = maxlen\n",
    "    self.n_hidden = n_hidden\n",
    "    self.n_in = n_in\n",
    "    self.n_out = n_out\n",
    "\n",
    "  def create_model(self):\n",
    "    model = Sequential()\n",
    "    model.add(LSTM(self.n_hidden, batch_input_shape = (None, self.maxlen, self.n_in),\n",
    "             kernel_initializer = glorot_uniform(seed=20170719), \n",
    "             recurrent_initializer = orthogonal(gain=1.0, seed=20170719), \n",
    "             dropout = 0.5, \n",
    "             recurrent_dropout = 0.5))\n",
    "    model.add(Dropout(0.5))\n",
    "    model.add(Dense(self.n_out, \n",
    "            kernel_initializer = glorot_uniform(seed=20170719)))\n",
    "    model.add(Activation(\"softmax\"))\n",
    "    model.compile(loss=\"categorical_crossentropy\", optimizer = \"RMSprop\", metrics = ['categorical_accuracy'])\n",
    "    return model\n",
    "\n",
    "  # 学習\n",
    "  def train(self, x_train, t_train, batch_size, epochs) :\n",
    "    early_stopping = EarlyStopping(patience=0, verbose=1)\n",
    "    model = self.create_model()\n",
    "    model.fit(x_train, t_train, batch_size = batch_size, epochs = epochs, verbose = 1,\n",
    "          shuffle = True, callbacks = [early_stopping], validation_split = 0.1)\n",
    "    return model"
   ]
  },
  {
   "cell_type": "code",
   "execution_count": 5,
   "metadata": {},
   "outputs": [
    {
     "name": "stdout",
     "output_type": "stream",
     "text": [
      "Train on 3346 samples, validate on 372 samples\n",
      "Epoch 1/100\n",
      "3346/3346 [==============================] - 36s - loss: 1.2412 - categorical_accuracy: 0.4127 - val_loss: 0.9657 - val_categorical_accuracy: 0.7446\n",
      "Epoch 2/100\n",
      "3346/3346 [==============================] - 33s - loss: 1.0422 - categorical_accuracy: 0.5203 - val_loss: 0.7053 - val_categorical_accuracy: 0.8763\n",
      "Epoch 3/100\n",
      "3346/3346 [==============================] - 22s - loss: 0.9202 - categorical_accuracy: 0.5753 - val_loss: 0.5903 - val_categorical_accuracy: 0.8306\n",
      "Epoch 4/100\n",
      "3346/3346 [==============================] - 21s - loss: 0.8072 - categorical_accuracy: 0.6458 - val_loss: 0.4980 - val_categorical_accuracy: 0.7930\n",
      "Epoch 5/100\n",
      "3346/3346 [==============================] - 21s - loss: 0.7350 - categorical_accuracy: 0.6751 - val_loss: 0.4294 - val_categorical_accuracy: 0.8414\n",
      "Epoch 6/100\n",
      "3346/3346 [==============================] - 21s - loss: 0.6644 - categorical_accuracy: 0.7098 - val_loss: 0.4876 - val_categorical_accuracy: 0.7742\n",
      "Epoch 00005: early stopping\n",
      "410/414 [============================>.] - ETA: 0sscore: [0.50278047763783, 0.8188405786303506]\n",
      "正答率: 0.8188405797101449\n",
      "準正答率（騰落）: 0.9734299516908212\n"
     ]
    }
   ],
   "source": [
    "n_hidden = 80     # 出力次元\n",
    "epochs = 100      # エポック数\n",
    "batch_size = 10   # ミニバッチサイズ\n",
    "\n",
    "# モデル定義\n",
    "prediction = Prediction(maxlen, n_hidden, n_in, n_out)\n",
    "# 学習\n",
    "model = prediction.train(x_train, t_train, batch_size, epochs)\n",
    "# テスト\n",
    "score = model.evaluate(x_test, t_test, batch_size = batch_size, verbose = 1)\n",
    "print(\"score:\", score)\n",
    "\n",
    "# 正答率、準正答率（騰落）集計\n",
    "preds = model.predict(x_test)\n",
    "correct = 0\n",
    "semi_correct = 0\n",
    "for i in range(len(preds)):\n",
    "  pred = np.argmax(preds[i,:])\n",
    "  tar = np.argmax(t_test[i,:])\n",
    "  if pred == tar :\n",
    "    correct += 1\n",
    "  else :\n",
    "    if pred+tar == 1 or pred+tar == 5 :\n",
    "      semi_correct += 1\n",
    "\n",
    "print(\"正答率:\", 1.0 * correct / len(preds))\n",
    "print(\"準正答率（騰落）:\", 1.0 * (correct+semi_correct) / len(preds))"
   ]
  }
 ],
 "metadata": {
  "kernelspec": {
   "display_name": "Python 3",
   "language": "python",
   "name": "python3"
  },
  "language_info": {
   "codemirror_mode": {
    "name": "ipython",
    "version": 3
   },
   "file_extension": ".py",
   "mimetype": "text/x-python",
   "name": "python",
   "nbconvert_exporter": "python",
   "pygments_lexer": "ipython3",
   "version": "3.6.3"
  }
 },
 "nbformat": 4,
 "nbformat_minor": 2
}
