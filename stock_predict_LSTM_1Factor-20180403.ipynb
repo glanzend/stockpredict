{
 "cells": [
  {
   "cell_type": "markdown",
   "metadata": {},
   "source": [
    "## 日経平均予測\n",
    "### 翌営業日の日経平均終値に対する単純騰落予測（上がるか／下がるか）、\n",
    "### および４パターン増減予測（①1%以上 ②0%以上、1%未満　 ③-1%以上、0%未満　 ④-1%超）を行う。"
   ]
  },
  {
   "cell_type": "code",
   "execution_count": 1,
   "metadata": {},
   "outputs": [
    {
     "name": "stderr",
     "output_type": "stream",
     "text": [
      "C:\\Users\\yt690\\Anaconda3\\lib\\site-packages\\h5py\\__init__.py:34: FutureWarning: Conversion of the second argument of issubdtype from `float` to `np.floating` is deprecated. In future, it will be treated as `np.float64 == np.dtype(float).type`.\n",
      "  from ._conv import register_converters as _register_converters\n",
      "Using TensorFlow backend.\n"
     ]
    }
   ],
   "source": [
    "import tensorflow as tf\n",
    "import numpy as np\n",
    "import pandas as pd\n",
    "import matplotlib.pyplot as plt\n",
    "import csv\n",
    "import time\n",
    "\n",
    "from __future__ import print_function\n",
    "from keras.layers.core import Activation\n",
    "from keras.layers.core import Dense\n",
    "from keras.layers.core import Dropout\n",
    "from keras.models import Sequential\n",
    "from keras.utils import np_utils\n",
    "\n",
    "from keras.layers.recurrent import LSTM\n",
    "from keras.callbacks import EarlyStopping\n",
    "from keras.initializers import glorot_uniform\n",
    "from keras.initializers import orthogonal\n",
    "from keras.initializers import TruncatedNormal\n",
    "from keras import optimizers\n",
    "from sklearn.utils import shuffle\n",
    "from sklearn.model_selection import train_test_split\n",
    "from sklearn.metrics import mean_squared_error, mean_absolute_error\n",
    "\n",
    "from keras.utils import plot_model\n",
    "from IPython.display import SVG\n",
    "from keras.utils.vis_utils import model_to_dot"
   ]
  },
  {
   "cell_type": "markdown",
   "metadata": {},
   "source": [
    "### CSVファイル読み込み"
   ]
  },
  {
   "cell_type": "code",
   "execution_count": 2,
   "metadata": {},
   "outputs": [
    {
     "data": {
      "image/png": "[encoded data removed]",
      "text/plain": [
       "<matplotlib.figure.Figure at 0x205ae2899e8>"
      ]
     },
     "metadata": {},
     "output_type": "display_data"
    },
    {
     "data": {
      "text/html": [
       "<div>\n",
       "<style>\n",
       "    .dataframe thead tr:only-child th {\n",
       "        text-align: right;\n",
       "    }\n",
       "\n",
       "    .dataframe thead th {\n",
       "        text-align: left;\n",
       "    }\n",
       "\n",
       "    .dataframe tbody tr th {\n",
       "        vertical-align: top;\n",
       "    }\n",
       "</style>\n",
       "<table border=\"1\" class=\"dataframe\">\n",
       "  <thead>\n",
       "    <tr style=\"text-align: right;\">\n",
       "      <th></th>\n",
       "      <th>NK_Close</th>\n",
       "    </tr>\n",
       "  </thead>\n",
       "  <tbody>\n",
       "    <tr>\n",
       "      <th>count</th>\n",
       "      <td>4212.000000</td>\n",
       "    </tr>\n",
       "    <tr>\n",
       "      <th>mean</th>\n",
       "      <td>13258.716387</td>\n",
       "    </tr>\n",
       "    <tr>\n",
       "      <th>std</th>\n",
       "      <td>3830.598834</td>\n",
       "    </tr>\n",
       "    <tr>\n",
       "      <th>min</th>\n",
       "      <td>7054.980000</td>\n",
       "    </tr>\n",
       "    <tr>\n",
       "      <th>25%</th>\n",
       "      <td>9999.692500</td>\n",
       "    </tr>\n",
       "    <tr>\n",
       "      <th>50%</th>\n",
       "      <td>12241.785000</td>\n",
       "    </tr>\n",
       "    <tr>\n",
       "      <th>75%</th>\n",
       "      <td>16313.537500</td>\n",
       "    </tr>\n",
       "    <tr>\n",
       "      <th>max</th>\n",
       "      <td>24124.150000</td>\n",
       "    </tr>\n",
       "  </tbody>\n",
       "</table>\n",
       "</div>"
      ],
      "text/plain": [
       "           NK_Close\n",
       "count   4212.000000\n",
       "mean   13258.716387\n",
       "std     3830.598834\n",
       "min     7054.980000\n",
       "25%     9999.692500\n",
       "50%    12241.785000\n",
       "75%    16313.537500\n",
       "max    24124.150000"
      ]
     },
     "execution_count": 2,
     "metadata": {},
     "output_type": "execute_result"
    }
   ],
   "source": [
    "# 学習データの読み込み\n",
    "df = pd.read_csv('mktdat_nk1.csv',encoding='utf-8',index_col='Date', parse_dates=[0])\n",
    "\n",
    "#データ確認\n",
    "df.head() \n",
    "df.plot()\n",
    "plt.legend(bbox_to_anchor=(1, 0), loc='lower right', borderaxespad=3, fontsize=7)\n",
    "plt.show()\n",
    "df.describe()"
   ]
  },
  {
   "cell_type": "markdown",
   "metadata": {},
   "source": [
    "### データ加工"
   ]
  },
  {
   "cell_type": "code",
   "execution_count": 3,
   "metadata": {
    "collapsed": true,
    "scrolled": true
   },
   "outputs": [],
   "source": [
    "#増減率（100＊log（前日比））を計算し、新たな列を追加\n",
    "\n",
    "for i in range(len(df.columns)):\n",
    "    use_col = df.columns[i]\n",
    "    df[use_col] =  100*np.log(df[use_col]/df[use_col].shift())\n",
    "            \n",
    "#前日比をとったので、先頭行にNaNが含まれるため、先頭行を削除\n",
    "df=df.dropna(how='any')"
   ]
  },
  {
   "cell_type": "code",
   "execution_count": 4,
   "metadata": {},
   "outputs": [
    {
     "data": {
      "text/html": [
       "<div>\n",
       "<style>\n",
       "    .dataframe thead tr:only-child th {\n",
       "        text-align: right;\n",
       "    }\n",
       "\n",
       "    .dataframe thead th {\n",
       "        text-align: left;\n",
       "    }\n",
       "\n",
       "    .dataframe tbody tr th {\n",
       "        vertical-align: top;\n",
       "    }\n",
       "</style>\n",
       "<table border=\"1\" class=\"dataframe\">\n",
       "  <thead>\n",
       "    <tr style=\"text-align: right;\">\n",
       "      <th></th>\n",
       "      <th>NK_Close</th>\n",
       "    </tr>\n",
       "  </thead>\n",
       "  <tbody>\n",
       "    <tr>\n",
       "      <th>count</th>\n",
       "      <td>4211.000000</td>\n",
       "    </tr>\n",
       "    <tr>\n",
       "      <th>mean</th>\n",
       "      <td>0.010138</td>\n",
       "    </tr>\n",
       "    <tr>\n",
       "      <th>std</th>\n",
       "      <td>1.523779</td>\n",
       "    </tr>\n",
       "    <tr>\n",
       "      <th>min</th>\n",
       "      <td>-12.111026</td>\n",
       "    </tr>\n",
       "    <tr>\n",
       "      <th>25%</th>\n",
       "      <td>-0.728694</td>\n",
       "    </tr>\n",
       "    <tr>\n",
       "      <th>50%</th>\n",
       "      <td>0.042793</td>\n",
       "    </tr>\n",
       "    <tr>\n",
       "      <th>75%</th>\n",
       "      <td>0.826839</td>\n",
       "    </tr>\n",
       "    <tr>\n",
       "      <th>max</th>\n",
       "      <td>13.234585</td>\n",
       "    </tr>\n",
       "  </tbody>\n",
       "</table>\n",
       "</div>"
      ],
      "text/plain": [
       "          NK_Close\n",
       "count  4211.000000\n",
       "mean      0.010138\n",
       "std       1.523779\n",
       "min     -12.111026\n",
       "25%      -0.728694\n",
       "50%       0.042793\n",
       "75%       0.826839\n",
       "max      13.234585"
      ]
     },
     "execution_count": 4,
     "metadata": {},
     "output_type": "execute_result"
    }
   ],
   "source": [
    "df.describe()"
   ]
  },
  {
   "cell_type": "code",
   "execution_count": 5,
   "metadata": {},
   "outputs": [
    {
     "data": {
      "text/html": [
       "<div>\n",
       "<style>\n",
       "    .dataframe thead tr:only-child th {\n",
       "        text-align: right;\n",
       "    }\n",
       "\n",
       "    .dataframe thead th {\n",
       "        text-align: left;\n",
       "    }\n",
       "\n",
       "    .dataframe tbody tr th {\n",
       "        vertical-align: top;\n",
       "    }\n",
       "</style>\n",
       "<table border=\"1\" class=\"dataframe\">\n",
       "  <thead>\n",
       "    <tr style=\"text-align: right;\">\n",
       "      <th></th>\n",
       "      <th>NK_Close</th>\n",
       "      <th>NK_Close_P1</th>\n",
       "      <th>NK_Close_P2</th>\n",
       "      <th>NK_Close_P3</th>\n",
       "      <th>NK_Close_P4</th>\n",
       "    </tr>\n",
       "    <tr>\n",
       "      <th>Date</th>\n",
       "      <th></th>\n",
       "      <th></th>\n",
       "      <th></th>\n",
       "      <th></th>\n",
       "      <th></th>\n",
       "    </tr>\n",
       "  </thead>\n",
       "  <tbody>\n",
       "    <tr>\n",
       "      <th>2001-01-09</th>\n",
       "      <td>-1.871362</td>\n",
       "      <td>0</td>\n",
       "      <td>0</td>\n",
       "      <td>0</td>\n",
       "      <td>1</td>\n",
       "    </tr>\n",
       "    <tr>\n",
       "      <th>2001-01-10</th>\n",
       "      <td>-1.315398</td>\n",
       "      <td>0</td>\n",
       "      <td>0</td>\n",
       "      <td>0</td>\n",
       "      <td>1</td>\n",
       "    </tr>\n",
       "    <tr>\n",
       "      <th>2001-01-11</th>\n",
       "      <td>-1.739042</td>\n",
       "      <td>0</td>\n",
       "      <td>0</td>\n",
       "      <td>0</td>\n",
       "      <td>1</td>\n",
       "    </tr>\n",
       "    <tr>\n",
       "      <th>2001-01-12</th>\n",
       "      <td>1.104920</td>\n",
       "      <td>1</td>\n",
       "      <td>0</td>\n",
       "      <td>0</td>\n",
       "      <td>0</td>\n",
       "    </tr>\n",
       "    <tr>\n",
       "      <th>2001-01-15</th>\n",
       "      <td>1.180398</td>\n",
       "      <td>1</td>\n",
       "      <td>0</td>\n",
       "      <td>0</td>\n",
       "      <td>0</td>\n",
       "    </tr>\n",
       "  </tbody>\n",
       "</table>\n",
       "</div>"
      ],
      "text/plain": [
       "            NK_Close  NK_Close_P1  NK_Close_P2  NK_Close_P3  NK_Close_P4\n",
       "Date                                                                    \n",
       "2001-01-09 -1.871362            0            0            0            1\n",
       "2001-01-10 -1.315398            0            0            0            1\n",
       "2001-01-11 -1.739042            0            0            0            1\n",
       "2001-01-12  1.104920            1            0            0            0\n",
       "2001-01-15  1.180398            1            0            0            0"
      ]
     },
     "execution_count": 5,
     "metadata": {},
     "output_type": "execute_result"
    }
   ],
   "source": [
    "#日経平均終値の増減率を4パターンに分類\n",
    "df['NK_Close_P1'] = df['NK_Close'] >=1  \n",
    "df['NK_Close_P2'] =  (0 == df['NK_Close']) | (0 < df['NK_Close']) & (df['NK_Close']<1)\n",
    "df['NK_Close_P3'] =  (-1<= df['NK_Close']) & (df['NK_Close']<0)\n",
    "df['NK_Close_P4'] = df['NK_Close']<-1\n",
    "\n",
    "df['NK_Close_P1'] = df['NK_Close_P1'].astype(np.int)\n",
    "df['NK_Close_P2'] = df['NK_Close_P2'].astype(np.int)\n",
    "df['NK_Close_P3'] = df['NK_Close_P3'].astype(np.int)\n",
    "df['NK_Close_P4'] = df['NK_Close_P4'].astype(np.int)\n",
    "df.head()"
   ]
  },
  {
   "cell_type": "code",
   "execution_count": 6,
   "metadata": {
    "collapsed": true
   },
   "outputs": [],
   "source": [
    "# 学習データ\n",
    "x_data = np.array(df.iloc[:,0:(len(df.columns)-4)].astype(np.float))\n",
    "\n",
    "# ラベルデータ（増減率４パターン）\n",
    "y_data = np.array(df.iloc[:,(len(df.columns)-4):].astype(np.float)) "
   ]
  },
  {
   "cell_type": "code",
   "execution_count": 7,
   "metadata": {},
   "outputs": [
    {
     "name": "stdout",
     "output_type": "stream",
     "text": [
      "n_in: 1\n",
      "n_out: 4\n",
      "x_data.shape[0]: 4211\n",
      "len_seq: 4131\n",
      "len(data): 4131\n",
      "(4131, 80, 1) (4131, 4)\n"
     ]
    }
   ],
   "source": [
    "maxlen = 80              # 入力系列数\n",
    "n_in = x_data.shape[1]   # 学習データ（＝入力）の列数\n",
    "print(\"n_in:\",n_in)\n",
    "n_out = y_data.shape[1]  # ラベルデータ（=出力）の列数\n",
    "print(\"n_out:\",n_out)\n",
    "len_seq = x_data.shape[0] - maxlen\n",
    "print(\"x_data.shape[0]:\",x_data.shape[0])\n",
    "print(\"len_seq:\",len_seq)\n",
    "\n",
    "data = []\n",
    "target = []\n",
    "for i in range(0, len_seq):\n",
    "  data.append(x_data[i:i+maxlen, :]) #80個ずつずらして取得\n",
    "  target.append(y_data[i+maxlen, :])#80個目から取得\n",
    "\n",
    "print(\"len(data):\",len(data))\n",
    "x = np.array(data).reshape(len(data), maxlen, n_in)\n",
    "y = np.array(target).reshape(len(data), n_out)\n",
    "\n",
    "print(x.shape, y.shape)"
   ]
  },
  {
   "cell_type": "code",
   "execution_count": 8,
   "metadata": {},
   "outputs": [
    {
     "name": "stdout",
     "output_type": "stream",
     "text": [
      "_________________________________________________________________\n",
      "Layer (type)                 Output Shape              Param #   \n",
      "=================================================================\n",
      "lstm_1 (LSTM)                (None, 80)                26240     \n",
      "_________________________________________________________________\n",
      "dropout_1 (Dropout)          (None, 80)                0         \n",
      "_________________________________________________________________\n",
      "dense_1 (Dense)              (None, 4)                 324       \n",
      "_________________________________________________________________\n",
      "activation_1 (Activation)    (None, 4)                 0         \n",
      "=================================================================\n",
      "Total params: 26,564\n",
      "Trainable params: 26,564\n",
      "Non-trainable params: 0\n",
      "_________________________________________________________________\n"
     ]
    },
    {
     "data": {
      "image/svg+xml": [
       "<svg height=\"337pt\" viewBox=\"0.00 0.00 165.00 337.00\" width=\"165pt\" xmlns=\"http://www.w3.org/2000/svg\" xmlns:xlink=\"http://www.w3.org/1999/xlink\">\n",
       "<g class=\"graph\" id=\"graph0\" transform=\"scale(1 1) rotate(0) translate(4 333)\">\n",
       "<title>G</title>\n",
       "<polygon fill=\"white\" points=\"-4,4 -4,-333 161,-333 161,4 -4,4\" stroke=\"none\"/>\n",
       "<!-- 2223424345928 -->\n",
       "<g class=\"node\" id=\"node1\"><title>2223424345928</title>\n",
       "<polygon fill=\"none\" points=\"0,-292.5 0,-328.5 157,-328.5 157,-292.5 0,-292.5\" stroke=\"black\"/>\n",
       "<text font-family=\"Times New Roman,serif\" font-size=\"14.00\" text-anchor=\"middle\" x=\"78.5\" y=\"-306.8\">lstm_1_input: InputLayer</text>\n",
       "</g>\n",
       "<!-- 2223424346712 -->\n",
       "<g class=\"node\" id=\"node2\"><title>2223424346712</title>\n",
       "<polygon fill=\"none\" points=\"29.5,-219.5 29.5,-255.5 127.5,-255.5 127.5,-219.5 29.5,-219.5\" stroke=\"black\"/>\n",
       "<text font-family=\"Times New Roman,serif\" font-size=\"14.00\" text-anchor=\"middle\" x=\"78.5\" y=\"-233.8\">lstm_1: LSTM</text>\n",
       "</g>\n",
       "<!-- 2223424345928&#45;&gt;2223424346712 -->\n",
       "<g class=\"edge\" id=\"edge1\"><title>2223424345928-&gt;2223424346712</title>\n",
       "<path d=\"M78.5,-292.313C78.5,-284.289 78.5,-274.547 78.5,-265.569\" fill=\"none\" stroke=\"black\"/>\n",
       "<polygon fill=\"black\" points=\"82.0001,-265.529 78.5,-255.529 75.0001,-265.529 82.0001,-265.529\" stroke=\"black\"/>\n",
       "</g>\n",
       "<!-- 2223424344304 -->\n",
       "<g class=\"node\" id=\"node3\"><title>2223424344304</title>\n",
       "<polygon fill=\"none\" points=\"13.5,-146.5 13.5,-182.5 143.5,-182.5 143.5,-146.5 13.5,-146.5\" stroke=\"black\"/>\n",
       "<text font-family=\"Times New Roman,serif\" font-size=\"14.00\" text-anchor=\"middle\" x=\"78.5\" y=\"-160.8\">dropout_1: Dropout</text>\n",
       "</g>\n",
       "<!-- 2223424346712&#45;&gt;2223424344304 -->\n",
       "<g class=\"edge\" id=\"edge2\"><title>2223424346712-&gt;2223424344304</title>\n",
       "<path d=\"M78.5,-219.313C78.5,-211.289 78.5,-201.547 78.5,-192.569\" fill=\"none\" stroke=\"black\"/>\n",
       "<polygon fill=\"black\" points=\"82.0001,-192.529 78.5,-182.529 75.0001,-192.529 82.0001,-192.529\" stroke=\"black\"/>\n",
       "</g>\n",
       "<!-- 2223441975056 -->\n",
       "<g class=\"node\" id=\"node4\"><title>2223441975056</title>\n",
       "<polygon fill=\"none\" points=\"26.5,-73.5 26.5,-109.5 130.5,-109.5 130.5,-73.5 26.5,-73.5\" stroke=\"black\"/>\n",
       "<text font-family=\"Times New Roman,serif\" font-size=\"14.00\" text-anchor=\"middle\" x=\"78.5\" y=\"-87.8\">dense_1: Dense</text>\n",
       "</g>\n",
       "<!-- 2223424344304&#45;&gt;2223441975056 -->\n",
       "<g class=\"edge\" id=\"edge3\"><title>2223424344304-&gt;2223441975056</title>\n",
       "<path d=\"M78.5,-146.313C78.5,-138.289 78.5,-128.547 78.5,-119.569\" fill=\"none\" stroke=\"black\"/>\n",
       "<polygon fill=\"black\" points=\"82.0001,-119.529 78.5,-109.529 75.0001,-119.529 82.0001,-119.529\" stroke=\"black\"/>\n",
       "</g>\n",
       "<!-- 2223424346768 -->\n",
       "<g class=\"node\" id=\"node5\"><title>2223424346768</title>\n",
       "<polygon fill=\"none\" points=\"4.5,-0.5 4.5,-36.5 152.5,-36.5 152.5,-0.5 4.5,-0.5\" stroke=\"black\"/>\n",
       "<text font-family=\"Times New Roman,serif\" font-size=\"14.00\" text-anchor=\"middle\" x=\"78.5\" y=\"-14.8\">activation_1: Activation</text>\n",
       "</g>\n",
       "<!-- 2223441975056&#45;&gt;2223424346768 -->\n",
       "<g class=\"edge\" id=\"edge4\"><title>2223441975056-&gt;2223424346768</title>\n",
       "<path d=\"M78.5,-73.3129C78.5,-65.2895 78.5,-55.5475 78.5,-46.5691\" fill=\"none\" stroke=\"black\"/>\n",
       "<polygon fill=\"black\" points=\"82.0001,-46.5288 78.5,-36.5288 75.0001,-46.5289 82.0001,-46.5288\" stroke=\"black\"/>\n",
       "</g>\n",
       "</g>\n",
       "</svg>"
      ],
      "text/plain": [
       "<IPython.core.display.SVG object>"
      ]
     },
     "execution_count": 8,
     "metadata": {},
     "output_type": "execute_result"
    }
   ],
   "source": [
    "n_hidden = 80     # 出力次元\n",
    "epochs = 100      # エポック数\n",
    "batch_size = 10   # ミニバッチサイズ\n",
    "\n",
    "# ネットワークモデル構築\n",
    "model = Sequential()\n",
    "model.add(LSTM(n_hidden, batch_input_shape = (None, maxlen, n_in),kernel_initializer = glorot_uniform(seed=1234), recurrent_initializer = orthogonal(gain=1.0, seed=1234), dropout = 0.5, recurrent_dropout = 0.5))\n",
    "model.add(Dropout(0.5))\n",
    "model.add(Dense(n_out,kernel_initializer = glorot_uniform(seed=1234)))\n",
    "model.add(Activation(\"softmax\"))\n",
    "model.compile(loss=\"categorical_crossentropy\", optimizer = \"RMSprop\", metrics = ['accuracy'])\n",
    "\n",
    "# モデルのサマリを表示\n",
    "model.summary()\n",
    "plot_model(model, to_file='model.png')\n",
    "SVG(model_to_dot(model).create(prog='dot', format='svg'))"
   ]
  },
  {
   "cell_type": "code",
   "execution_count": 9,
   "metadata": {},
   "outputs": [
    {
     "name": "stdout",
     "output_type": "stream",
     "text": [
      "Train on 3345 samples, validate on 372 samples\n",
      "Epoch 1/100\n",
      "3345/3345 [==============================] - 19s - loss: 1.3697 - acc: 0.2981 - val_loss: 1.3573 - val_acc: 0.3091\n",
      "Epoch 2/100\n",
      "3345/3345 [==============================] - 18s - loss: 1.3675 - acc: 0.3037 - val_loss: 1.3549 - val_acc: 0.3145\n",
      "Epoch 3/100\n",
      "3345/3345 [==============================] - 19s - loss: 1.3630 - acc: 0.3145 - val_loss: 1.3494 - val_acc: 0.3065\n",
      "Epoch 4/100\n",
      "3345/3345 [==============================] - 18s - loss: 1.3609 - acc: 0.3058 - val_loss: 1.3482 - val_acc: 0.3226\n",
      "Epoch 5/100\n",
      "3345/3345 [==============================] - 18s - loss: 1.3624 - acc: 0.2990 - val_loss: 1.3514 - val_acc: 0.3065\n",
      "Epoch 6/100\n",
      "3345/3345 [==============================] - 18s - loss: 1.3557 - acc: 0.3229 - val_loss: 1.3524 - val_acc: 0.3038\n",
      "Epoch 7/100\n",
      "3345/3345 [==============================] - 19s - loss: 1.3587 - acc: 0.3070 - val_loss: 1.3457 - val_acc: 0.3118\n",
      "Epoch 8/100\n",
      "3345/3345 [==============================] - 20s - loss: 1.3573 - acc: 0.2990 - val_loss: 1.3459 - val_acc: 0.3118\n",
      "Epoch 9/100\n",
      "3345/3345 [==============================] - 19s - loss: 1.3596 - acc: 0.2969 - val_loss: 1.3512 - val_acc: 0.2876\n",
      "Epoch 10/100\n",
      "3345/3345 [==============================] - 19s - loss: 1.3557 - acc: 0.3154 - val_loss: 1.3499 - val_acc: 0.3065\n",
      "Epoch 11/100\n",
      "3345/3345 [==============================] - 19s - loss: 1.3587 - acc: 0.3175 - val_loss: 1.3455 - val_acc: 0.3038\n",
      "Epoch 12/100\n",
      "3345/3345 [==============================] - 19s - loss: 1.3585 - acc: 0.2999 - val_loss: 1.3478 - val_acc: 0.3038\n",
      "Epoch 13/100\n",
      "3345/3345 [==============================] - 20s - loss: 1.3521 - acc: 0.2978 - val_loss: 1.3465 - val_acc: 0.3306\n",
      "Epoch 14/100\n",
      "3345/3345 [==============================] - 19s - loss: 1.3521 - acc: 0.3133 - val_loss: 1.3429 - val_acc: 0.3172\n",
      "Epoch 15/100\n",
      "3345/3345 [==============================] - 19s - loss: 1.3539 - acc: 0.3022 - val_loss: 1.3464 - val_acc: 0.3118\n",
      "Epoch 16/100\n",
      "3345/3345 [==============================] - 19s - loss: 1.3549 - acc: 0.3112 - val_loss: 1.3473 - val_acc: 0.3038\n",
      "Epoch 17/100\n",
      "3345/3345 [==============================] - 20s - loss: 1.3568 - acc: 0.3043 - val_loss: 1.3491 - val_acc: 0.2984\n",
      "Epoch 18/100\n",
      "3345/3345 [==============================] - 20s - loss: 1.3544 - acc: 0.3127 - val_loss: 1.3496 - val_acc: 0.2957\n",
      "Epoch 19/100\n",
      "3345/3345 [==============================] - 19s - loss: 1.3573 - acc: 0.3055 - val_loss: 1.3494 - val_acc: 0.2930\n",
      "Epoch 20/100\n",
      "3345/3345 [==============================] - 20s - loss: 1.3553 - acc: 0.3277 - val_loss: 1.3461 - val_acc: 0.3145\n",
      "Epoch 21/100\n",
      "3345/3345 [==============================] - 20s - loss: 1.3564 - acc: 0.3148 - val_loss: 1.3498 - val_acc: 0.2930\n",
      "Epoch 22/100\n",
      "3345/3345 [==============================] - 20s - loss: 1.3533 - acc: 0.3202 - val_loss: 1.3507 - val_acc: 0.3038\n",
      "Epoch 23/100\n",
      "3345/3345 [==============================] - 20s - loss: 1.3523 - acc: 0.3184 - val_loss: 1.3479 - val_acc: 0.2903\n",
      "Epoch 24/100\n",
      "3345/3345 [==============================] - 20s - loss: 1.3568 - acc: 0.3031 - val_loss: 1.3471 - val_acc: 0.3065\n",
      "Epoch 25/100\n",
      "3345/3345 [==============================] - 20s - loss: 1.3538 - acc: 0.3205 - val_loss: 1.3523 - val_acc: 0.3011\n",
      "Epoch 00024: early stopping\n"
     ]
    },
    {
     "data": {
      "image/png": "[encoded data removed]",
      "text/plain": [
       "<matplotlib.figure.Figure at 0x205b23f2b70>"
      ]
     },
     "metadata": {},
     "output_type": "display_data"
    },
    {
     "data": {
      "image/png": "[encoded data removed]",
      "text/plain": [
       "<matplotlib.figure.Figure at 0x205b2c01438>"
      ]
     },
     "metadata": {},
     "output_type": "display_data"
    },
    {
     "name": "stdout",
     "output_type": "stream",
     "text": [
      "414/414 [==============================] - 0s     \n",
      "score: [1.3568348383557969, 0.32125604519809503]\n",
      "識別率（騰落４分類）: 0.32126\n",
      "識別率（騰落）: 0.54831\n",
      "Wall time: 8min 16s\n"
     ]
    }
   ],
   "source": [
    "%%time\n",
    "\n",
    "#データを学習用とテスト用に分割 \n",
    "x_train, x_test, y_train, y_test = train_test_split(x,y, test_size=0.1, random_state=1234)         \n",
    "\n",
    "# 学習\n",
    "early_stopping = EarlyStopping(patience=10, verbose=1)\n",
    "history = model.fit(x_train, y_train, batch_size = batch_size, epochs = epochs, verbose = 1,shuffle = True, callbacks = [early_stopping], validation_split = 0.1)\n",
    "\n",
    "# 精度の履歴をプロット\n",
    "plt.plot(history.history['acc'])\n",
    "plt.plot(history.history['val_acc'])\n",
    "plt.title('model accuracy')\n",
    "plt.xlabel('epoch')\n",
    "plt.ylabel('accuracy')\n",
    "plt.legend(['acc', 'val_acc'], loc='lower right')\n",
    "plt.show()\n",
    "\n",
    "# 損失の履歴をプロット\n",
    "plt.plot(history.history['loss'])\n",
    "plt.plot(history.history['val_loss'])\n",
    "plt.title('model loss')\n",
    "plt.xlabel('epoch')\n",
    "plt.ylabel('loss')\n",
    "plt.legend(['loss', 'val_loss'], loc='lower right')\n",
    "plt.show()\n",
    "\n",
    "#テスト\n",
    "score = model.evaluate(x_test, y_test, batch_size = batch_size, verbose = 1)\n",
    "print(\"score:\", score)\n",
    "\n",
    "#識別率（騰落４分類）\n",
    "y_pred = model.predict(x_test)\n",
    "correct = 0\n",
    "semi_correct = 0\n",
    "for i in range(len(y_pred)):\n",
    "  pred = np.argmax(y_pred[i,:])\n",
    "  tar = np.argmax(y_test[i,:])\n",
    "  if pred == tar :\n",
    "    correct += 1\n",
    "  else :\n",
    "    if pred+tar == 1 or pred+tar == 5 :\n",
    "      semi_correct += 1\n",
    "\n",
    "print(\"識別率（騰落４分類）: %6.5f\" % (1.0 * correct / len(y_pred)))\n",
    "print(\"識別率（騰落）: %6.5f\" % (1.0 * (correct+semi_correct) / len(y_pred)))"
   ]
  }
 ],
 "metadata": {
  "kernelspec": {
   "display_name": "Python 3",
   "language": "python",
   "name": "python3"
  },
  "language_info": {
   "codemirror_mode": {
    "name": "ipython",
    "version": 3
   },
   "file_extension": ".py",
   "mimetype": "text/x-python",
   "name": "python",
   "nbconvert_exporter": "python",
   "pygments_lexer": "ipython3",
   "version": "3.6.3"
  }
 },
 "nbformat": 4,
 "nbformat_minor": 2
}
