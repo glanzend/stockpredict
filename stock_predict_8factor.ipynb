{
 "cells": [
  {
   "cell_type": "code",
   "execution_count": 1,
   "metadata": {},
   "outputs": [
    {
     "name": "stderr",
     "output_type": "stream",
     "text": [
      "C:\\Users\\yt690\\Anaconda3\\lib\\site-packages\\h5py\\__init__.py:34: FutureWarning: Conversion of the second argument of issubdtype from `float` to `np.floating` is deprecated. In future, it will be treated as `np.float64 == np.dtype(float).type`.\n",
      "  from ._conv import register_converters as _register_converters\n",
      "Using TensorFlow backend.\n"
     ]
    }
   ],
   "source": [
    "import tensorflow as tf\n",
    "import numpy as np\n",
    "import pandas as pd\n",
    "import matplotlib.pyplot as plt\n",
    "import csv\n",
    "\n",
    "from __future__ import print_function\n",
    "from keras.layers.core import Activation\n",
    "from keras.layers.core import Dense\n",
    "from keras.layers.core import Dropout\n",
    "from keras.models import Sequential\n",
    "from keras.utils import np_utils\n",
    "from keras.utils import plot_model\n",
    "\n",
    "from keras.layers.recurrent import LSTM\n",
    "from keras.callbacks import EarlyStopping\n",
    "from keras.initializers import glorot_uniform\n",
    "from keras.initializers import orthogonal\n",
    "from keras.initializers import TruncatedNormal\n",
    "from keras import optimizers\n",
    "from sklearn.utils import shuffle\n",
    "from sklearn.model_selection import train_test_split"
   ]
  },
  {
   "cell_type": "markdown",
   "metadata": {},
   "source": [
    "### CSVファイル読み込み"
   ]
  },
  {
   "cell_type": "code",
   "execution_count": 2,
   "metadata": {},
   "outputs": [
    {
     "name": "stdout",
     "output_type": "stream",
     "text": [
      "x_data.shape= (4211, 8)\n",
      "y_data.shape= (4211, 4)\n"
     ]
    }
   ],
   "source": [
    "# 学習データ\n",
    "df1 =csv.reader(open('marketdata2.csv', 'r', encoding=\"utf-8\"))\n",
    "data1 = [ v for v in df1]\n",
    "\n",
    "mat = np.array(data1)\n",
    "mat2 = mat[1:]                        # 見出し行を外す\n",
    "x_data = mat2[:, 1:].astype(np.float)  # 2列目以降を抜き出してfloat変換\n",
    "print('x_data.shape=', x_data.shape)\n",
    "\n",
    "# ラベルデータ\n",
    "# 1％以上／0％以上／-1％以上／-1％未満\n",
    "df2 = csv.reader(open('marketdata_onehot.csv', 'r', encoding=\"utf-8\"))\n",
    "data2 = [ v for v in df2]\n",
    "mat3 = np.array(data2)\n",
    "mat4 = mat3[1:]                       # 見出し行を外す\n",
    "y_data = mat4[:, 1:].astype(np.float)  # 2列目以降を抜き出してfloat変換\n",
    "print('y_data.shape=', y_data.shape)"
   ]
  },
  {
   "cell_type": "code",
   "execution_count": 3,
   "metadata": {},
   "outputs": [
    {
     "name": "stdout",
     "output_type": "stream",
     "text": [
      "n_in: 8\n",
      "n_out: 4\n",
      "x_data.shape[0]: 4211\n",
      "len_seq: 4132\n",
      "len(data): 4132\n",
      "(4132, 80, 8) (4132, 4)\n",
      "(3718, 80, 8) (414, 80, 8) (3718, 4) (414, 4)\n"
     ]
    }
   ],
   "source": [
    "maxlen = 80              # 入力系列数\n",
    "n_in = x_data.shape[1]   # 学習データ（＝入力）の列数\n",
    "print(\"n_in:\",n_in)\n",
    "n_out = y_data.shape[1]  # ラベルデータ（=出力）の列数prin(\"n_in:\",n_in)\n",
    "print(\"n_out:\",n_out)\n",
    "len_seq = x_data.shape[0] - maxlen + 1\n",
    "print(\"x_data.shape[0]:\",x_data.shape[0])\n",
    "print(\"len_seq:\",len_seq)\n",
    "\n",
    "data = []\n",
    "target = []\n",
    "for i in range(0, len_seq):\n",
    "  data.append(x_data[i:i+maxlen, :]) #80個ずつずらして取得\n",
    "  target.append(y_data[i+maxlen-1, :])#80個目から取得\n",
    "\n",
    "print(\"len(data):\",len(data))\n",
    "x = np.array(data).reshape(len(data), maxlen, n_in)\n",
    "y = np.array(target).reshape(len(data), n_out)\n",
    "\n",
    "print(x.shape, y.shape)\n",
    "\n",
    "# ここからソースコードの後半\n",
    "n_train = int(len(data)*0.9)              # 訓練データ長\n",
    "x_train,x_test = np.vsplit(x, [n_train])  # 学習データを訓練用とテスト用に分割\n",
    "y_train,y_test = np.vsplit(y, [n_train])  # ラベルデータを訓練用とテスト用に分割\n",
    "\n",
    "print(x_train.shape, x_test.shape, y_train.shape, y_test.shape)"
   ]
  },
  {
   "cell_type": "code",
   "execution_count": 4,
   "metadata": {
    "collapsed": true
   },
   "outputs": [],
   "source": [
    "class Prediction :\n",
    "  def __init__(self, maxlen, n_hidden, n_in, n_out):\n",
    "    self.maxlen = maxlen\n",
    "    self.n_hidden = n_hidden\n",
    "    self.n_in = n_in\n",
    "    self.n_out = n_out\n",
    "\n",
    "  def create_model(self):\n",
    "    model = Sequential()\n",
    "    model.add(LSTM(self.n_hidden, batch_input_shape = (None, self.maxlen, self.n_in),\n",
    "             kernel_initializer = glorot_uniform(seed=20170719), \n",
    "             recurrent_initializer = orthogonal(gain=1.0, seed=20170719), \n",
    "             dropout = 0.5, \n",
    "             recurrent_dropout = 0.5))\n",
    "    model.add(Dropout(0.5))\n",
    "    model.add(Dense(self.n_out, \n",
    "            kernel_initializer = glorot_uniform(seed=20170719)))\n",
    "    model.add(Activation(\"softmax\"))\n",
    "    model.compile(loss=\"categorical_crossentropy\", optimizer = \"RMSprop\", metrics = ['categorical_accuracy'])\n",
    "    return model\n",
    "\n",
    "  # 学習\n",
    "  def train(self, x_train, y_train, batch_size, epochs) :\n",
    "    early_stopping = EarlyStopping(patience=0, verbose=1)\n",
    "    model = self.create_model()\n",
    "    model.fit(x_train, y_train, batch_size = batch_size, epochs = epochs, verbose = 1,\n",
    "          shuffle = True, callbacks = [early_stopping], validation_split = 0.1)\n",
    "    return model"
   ]
  },
  {
   "cell_type": "code",
   "execution_count": 5,
   "metadata": {},
   "outputs": [
    {
     "name": "stdout",
     "output_type": "stream",
     "text": [
      "Train on 3346 samples, validate on 372 samples\n",
      "Epoch 1/100\n",
      "3346/3346 [==============================] - 22s - loss: 1.2405 - categorical_accuracy: 0.4190 - val_loss: 1.0019 - val_categorical_accuracy: 0.6022\n",
      "Epoch 2/100\n",
      "3346/3346 [==============================] - 20s - loss: 1.0275 - categorical_accuracy: 0.5275 - val_loss: 0.7234 - val_categorical_accuracy: 0.7231\n",
      "Epoch 3/100\n",
      "3346/3346 [==============================] - 22s - loss: 0.8702 - categorical_accuracy: 0.6076 - val_loss: 0.6032 - val_categorical_accuracy: 0.7715\n",
      "Epoch 4/100\n",
      "3346/3346 [==============================] - 21s - loss: 0.7643 - categorical_accuracy: 0.6638 - val_loss: 0.5170 - val_categorical_accuracy: 0.8011\n",
      "Epoch 5/100\n",
      "3346/3346 [==============================] - 21s - loss: 0.7200 - categorical_accuracy: 0.6883 - val_loss: 0.4656 - val_categorical_accuracy: 0.8253\n",
      "Epoch 6/100\n",
      "3346/3346 [==============================] - 21s - loss: 0.6682 - categorical_accuracy: 0.7238 - val_loss: 0.4088 - val_categorical_accuracy: 0.8602\n",
      "Epoch 7/100\n",
      "3346/3346 [==============================] - 21s - loss: 0.6525 - categorical_accuracy: 0.7209 - val_loss: 0.4139 - val_categorical_accuracy: 0.8091\n",
      "Epoch 00006: early stopping\n",
      "400/414 [===========================>..] - ETA: 0sscore: [0.4145031344631444, 0.852656997056399]\n",
      "正答率: 0.8526570048309179\n",
      "準正答率（騰落）: 0.9444444444444444\n"
     ]
    }
   ],
   "source": [
    "n_hidden = 80     # 出力次元\n",
    "epochs = 100      # エポック数\n",
    "batch_size = 10   # ミニバッチサイズ\n",
    "\n",
    "# モデル定義\n",
    "prediction = Prediction(maxlen, n_hidden, n_in, n_out)\n",
    "# 学習\n",
    "model = prediction.train(x_train, y_train, batch_size, epochs)\n",
    "# テスト\n",
    "score = model.evaluate(x_test, y_test, batch_size = batch_size, verbose = 1)\n",
    "print(\"score:\", score)\n",
    "\n",
    "# 正答率、準正答率（騰落）集計\n",
    "y_pred = model.predict(x_test)\n",
    "correct = 0\n",
    "semi_correct = 0\n",
    "for i in range(len(y_pred)):\n",
    "  pred = np.argmax(y_pred[i,:])\n",
    "  tar = np.argmax(y_test[i,:])\n",
    "  if pred == tar :\n",
    "    correct += 1\n",
    "  else :\n",
    "    if pred+tar == 1 or pred+tar == 5 :\n",
    "      semi_correct += 1\n",
    "\n",
    "print(\"正答率:\", 1.0 * correct / len(y_pred))\n",
    "print(\"準正答率（騰落）:\", 1.0 * (correct+semi_correct) / len(y_pred))"
   ]
  }
 ],
 "metadata": {
  "kernelspec": {
   "display_name": "Python 3",
   "language": "python",
   "name": "python3"
  },
  "language_info": {
   "codemirror_mode": {
    "name": "ipython",
    "version": 3
   },
   "file_extension": ".py",
   "mimetype": "text/x-python",
   "name": "python",
   "nbconvert_exporter": "python",
   "pygments_lexer": "ipython3",
   "version": "3.6.3"
  }
 },
 "nbformat": 4,
 "nbformat_minor": 2
}
